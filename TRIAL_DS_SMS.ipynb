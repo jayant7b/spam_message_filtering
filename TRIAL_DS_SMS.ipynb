{
 "cells": [
  {
   "cell_type": "markdown",
   "metadata": {},
   "source": [
    "#                       TRIAL     SMS SPAM DETECTION"
   ]
  },
  {
   "cell_type": "markdown",
   "metadata": {},
   "source": [
    "# Import Statements"
   ]
  },
  {
   "cell_type": "code",
   "execution_count": 2,
   "metadata": {},
   "outputs": [],
   "source": [
    "import pandas as pd\n"
   ]
  },
  {
   "cell_type": "code",
   "execution_count": 1,
   "metadata": {},
   "outputs": [],
   "source": [
    "import numpy as np"
   ]
  },
  {
   "cell_type": "code",
   "execution_count": 3,
   "metadata": {},
   "outputs": [],
   "source": [
    "import matplotlib.pyplot as plt"
   ]
  },
  {
   "cell_type": "code",
   "execution_count": 4,
   "metadata": {},
   "outputs": [],
   "source": [
    "from nltk.corpus import stopwords   #Stopword required to neglect them in the text"
   ]
  },
  {
   "cell_type": "code",
   "execution_count": 14,
   "metadata": {},
   "outputs": [],
   "source": [
    "import nltk"
   ]
  },
  {
   "cell_type": "code",
   "execution_count": 15,
   "metadata": {},
   "outputs": [],
   "source": [
    "from sklearn.feature_extraction.text import CountVectorizer\n"
   ]
  },
  {
   "cell_type": "code",
   "execution_count": 16,
   "metadata": {},
   "outputs": [],
   "source": [
    "from sklearn.model_selection import train_test_split"
   ]
  },
  {
   "cell_type": "code",
   "execution_count": 17,
   "metadata": {},
   "outputs": [],
   "source": [
    "from sklearn.svm import LinearSVC"
   ]
  },
  {
   "cell_type": "code",
   "execution_count": 18,
   "metadata": {},
   "outputs": [],
   "source": [
    "from sklearn.neighbors import KNeighborsClassifier"
   ]
  },
  {
   "cell_type": "code",
   "execution_count": 19,
   "metadata": {},
   "outputs": [],
   "source": [
    "from sklearn.metrics import f1_score, accuracy_score"
   ]
  },
  {
   "cell_type": "code",
   "execution_count": 20,
   "metadata": {},
   "outputs": [],
   "source": [
    "from sklearn.naive_bayes import GaussianNB"
   ]
  },
  {
   "cell_type": "code",
   "execution_count": 21,
   "metadata": {},
   "outputs": [],
   "source": [
    "from sklearn.linear_model import LogisticRegression"
   ]
  },
  {
   "cell_type": "code",
   "execution_count": 22,
   "metadata": {},
   "outputs": [],
   "source": [
    "from sklearn import tree"
   ]
  },
  {
   "cell_type": "markdown",
   "metadata": {},
   "source": [
    "# Reading the Dataset"
   ]
  },
  {
   "cell_type": "code",
   "execution_count": 5,
   "metadata": {},
   "outputs": [
    {
     "data": {
      "text/html": [
       "<div>\n",
       "<style scoped>\n",
       "    .dataframe tbody tr th:only-of-type {\n",
       "        vertical-align: middle;\n",
       "    }\n",
       "\n",
       "    .dataframe tbody tr th {\n",
       "        vertical-align: top;\n",
       "    }\n",
       "\n",
       "    .dataframe thead th {\n",
       "        text-align: right;\n",
       "    }\n",
       "</style>\n",
       "<table border=\"1\" class=\"dataframe\">\n",
       "  <thead>\n",
       "    <tr style=\"text-align: right;\">\n",
       "      <th></th>\n",
       "      <th>v1</th>\n",
       "      <th>v2</th>\n",
       "    </tr>\n",
       "  </thead>\n",
       "  <tbody>\n",
       "    <tr>\n",
       "      <th>0</th>\n",
       "      <td>ham</td>\n",
       "      <td>said kiss, kiss, i can't do the sound effects...</td>\n",
       "    </tr>\n",
       "    <tr>\n",
       "      <th>1</th>\n",
       "      <td>ham</td>\n",
       "      <td>&amp;lt;#&amp;gt; ISH MINUTES WAS 5 MINUTES AGO. WTF.</td>\n",
       "    </tr>\n",
       "    <tr>\n",
       "      <th>2</th>\n",
       "      <td>spam</td>\n",
       "      <td>(Bank of Granite issues Strong-Buy) EXPLOSIVE ...</td>\n",
       "    </tr>\n",
       "    <tr>\n",
       "      <th>3</th>\n",
       "      <td>spam</td>\n",
       "      <td>* FREE* POLYPHONIC RINGTONE Text SUPER to 8713...</td>\n",
       "    </tr>\n",
       "    <tr>\n",
       "      <th>4</th>\n",
       "      <td>spam</td>\n",
       "      <td>**FREE MESSAGE**Thanks for using the Auction S...</td>\n",
       "    </tr>\n",
       "  </tbody>\n",
       "</table>\n",
       "</div>"
      ],
      "text/plain": [
       "     v1                                                 v2\n",
       "0   ham   said kiss, kiss, i can't do the sound effects...\n",
       "1   ham      &lt;#&gt; ISH MINUTES WAS 5 MINUTES AGO. WTF.\n",
       "2  spam  (Bank of Granite issues Strong-Buy) EXPLOSIVE ...\n",
       "3  spam  * FREE* POLYPHONIC RINGTONE Text SUPER to 8713...\n",
       "4  spam  **FREE MESSAGE**Thanks for using the Auction S..."
      ]
     },
     "execution_count": 5,
     "metadata": {},
     "output_type": "execute_result"
    }
   ],
   "source": [
    "data = pd.read_csv(\"newspam.csv\", encoding='latin')\n",
    "data.head()"
   ]
  },
  {
   "cell_type": "code",
   "execution_count": null,
   "metadata": {},
   "outputs": [],
   "source": []
  },
  {
   "cell_type": "markdown",
   "metadata": {},
   "source": [
    "# Code for Preprocessing Data"
   ]
  },
  {
   "cell_type": "markdown",
   "metadata": {},
   "source": [
    "## Visualization of Data"
   ]
  },
  {
   "cell_type": "code",
   "execution_count": null,
   "metadata": {},
   "outputs": [],
   "source": [
    "#plt.plot(data['v2'],data['v1'],'ro',color='red')"
   ]
  },
  {
   "cell_type": "code",
   "execution_count": null,
   "metadata": {},
   "outputs": [],
   "source": [
    "#plt.show()"
   ]
  },
  {
   "cell_type": "markdown",
   "metadata": {},
   "source": [
    "# Transforming the Data"
   ]
  },
  {
   "cell_type": "markdown",
   "metadata": {},
   "source": [
    "# Map the Column v1 -  ham to 0 and spam to 1 respectively"
   ]
  },
  {
   "cell_type": "code",
   "execution_count": 6,
   "metadata": {},
   "outputs": [
    {
     "data": {
      "text/plain": [
       "0       0\n",
       "1       0\n",
       "2       1\n",
       "3       1\n",
       "4       1\n",
       "5       1\n",
       "6       1\n",
       "7       1\n",
       "8       1\n",
       "9       1\n",
       "10      1\n",
       "11      1\n",
       "12      1\n",
       "13      0\n",
       "14      0\n",
       "15      1\n",
       "16      1\n",
       "17      1\n",
       "18      1\n",
       "19      1\n",
       "20      1\n",
       "21      1\n",
       "22      1\n",
       "23      1\n",
       "24      1\n",
       "25      1\n",
       "26      1\n",
       "27      0\n",
       "28      1\n",
       "29      1\n",
       "       ..\n",
       "1542    1\n",
       "1543    0\n",
       "1544    1\n",
       "1545    0\n",
       "1546    1\n",
       "1547    1\n",
       "1548    1\n",
       "1549    1\n",
       "1550    1\n",
       "1551    1\n",
       "1552    0\n",
       "1553    1\n",
       "1554    0\n",
       "1555    1\n",
       "1556    0\n",
       "1557    1\n",
       "1558    1\n",
       "1559    1\n",
       "1560    1\n",
       "1561    1\n",
       "1562    1\n",
       "1563    1\n",
       "1564    1\n",
       "1565    0\n",
       "1566    0\n",
       "1567    0\n",
       "1568    0\n",
       "1569    0\n",
       "1570    0\n",
       "1571    0\n",
       "Name: mapped_data, Length: 1572, dtype: int64"
      ]
     },
     "execution_count": 6,
     "metadata": {},
     "output_type": "execute_result"
    }
   ],
   "source": [
    "data['mapped_data'] = data['v1'].map({'ham':0, 'spam':1})\n",
    "data['mapped_data']"
   ]
  },
  {
   "cell_type": "markdown",
   "metadata": {},
   "source": [
    "# Head of the data - Verify Mapping"
   ]
  },
  {
   "cell_type": "code",
   "execution_count": 7,
   "metadata": {},
   "outputs": [
    {
     "data": {
      "text/html": [
       "<div>\n",
       "<style scoped>\n",
       "    .dataframe tbody tr th:only-of-type {\n",
       "        vertical-align: middle;\n",
       "    }\n",
       "\n",
       "    .dataframe tbody tr th {\n",
       "        vertical-align: top;\n",
       "    }\n",
       "\n",
       "    .dataframe thead th {\n",
       "        text-align: right;\n",
       "    }\n",
       "</style>\n",
       "<table border=\"1\" class=\"dataframe\">\n",
       "  <thead>\n",
       "    <tr style=\"text-align: right;\">\n",
       "      <th></th>\n",
       "      <th>v1</th>\n",
       "      <th>v2</th>\n",
       "      <th>mapped_data</th>\n",
       "    </tr>\n",
       "  </thead>\n",
       "  <tbody>\n",
       "    <tr>\n",
       "      <th>0</th>\n",
       "      <td>ham</td>\n",
       "      <td>said kiss, kiss, i can't do the sound effects...</td>\n",
       "      <td>0</td>\n",
       "    </tr>\n",
       "    <tr>\n",
       "      <th>1</th>\n",
       "      <td>ham</td>\n",
       "      <td>&amp;lt;#&amp;gt; ISH MINUTES WAS 5 MINUTES AGO. WTF.</td>\n",
       "      <td>0</td>\n",
       "    </tr>\n",
       "    <tr>\n",
       "      <th>2</th>\n",
       "      <td>spam</td>\n",
       "      <td>(Bank of Granite issues Strong-Buy) EXPLOSIVE ...</td>\n",
       "      <td>1</td>\n",
       "    </tr>\n",
       "    <tr>\n",
       "      <th>3</th>\n",
       "      <td>spam</td>\n",
       "      <td>* FREE* POLYPHONIC RINGTONE Text SUPER to 8713...</td>\n",
       "      <td>1</td>\n",
       "    </tr>\n",
       "    <tr>\n",
       "      <th>4</th>\n",
       "      <td>spam</td>\n",
       "      <td>**FREE MESSAGE**Thanks for using the Auction S...</td>\n",
       "      <td>1</td>\n",
       "    </tr>\n",
       "  </tbody>\n",
       "</table>\n",
       "</div>"
      ],
      "text/plain": [
       "     v1                                                 v2  mapped_data\n",
       "0   ham   said kiss, kiss, i can't do the sound effects...            0\n",
       "1   ham      &lt;#&gt; ISH MINUTES WAS 5 MINUTES AGO. WTF.            0\n",
       "2  spam  (Bank of Granite issues Strong-Buy) EXPLOSIVE ...            1\n",
       "3  spam  * FREE* POLYPHONIC RINGTONE Text SUPER to 8713...            1\n",
       "4  spam  **FREE MESSAGE**Thanks for using the Auction S...            1"
      ]
     },
     "execution_count": 7,
     "metadata": {},
     "output_type": "execute_result"
    }
   ],
   "source": [
    "data.head()"
   ]
  },
  {
   "cell_type": "code",
   "execution_count": 8,
   "metadata": {},
   "outputs": [],
   "source": [
    "ham=data[data.mapped_data == 0]"
   ]
  },
  {
   "cell_type": "code",
   "execution_count": 9,
   "metadata": {},
   "outputs": [
    {
     "name": "stdout",
     "output_type": "stream",
     "text": [
      "Number of ham messages in data set : 825\n"
     ]
    }
   ],
   "source": [
    "print(\"Number of ham messages in data set :\", ham['v1'].count())\n"
   ]
  },
  {
   "cell_type": "code",
   "execution_count": 10,
   "metadata": {},
   "outputs": [],
   "source": [
    "spam = data[data.mapped_data == 1]"
   ]
  },
  {
   "cell_type": "code",
   "execution_count": 11,
   "metadata": {},
   "outputs": [
    {
     "name": "stdout",
     "output_type": "stream",
     "text": [
      "Number of spam messages in data set:  747\n"
     ]
    }
   ],
   "source": [
    "print(\"Number of spam messages in data set: \", spam['v1'].count())"
   ]
  },
  {
   "cell_type": "markdown",
   "metadata": {},
   "source": [
    "# Download Stopwords"
   ]
  },
  {
   "cell_type": "code",
   "execution_count": null,
   "metadata": {},
   "outputs": [],
   "source": [
    "#nltk.download('stopwords')"
   ]
  },
  {
   "cell_type": "markdown",
   "metadata": {},
   "source": [
    "# Removing Stopwords"
   ]
  },
  {
   "cell_type": "code",
   "execution_count": 12,
   "metadata": {},
   "outputs": [],
   "source": [
    "\n",
    "stopset = set(stopwords.words(\"english\"))"
   ]
  },
  {
   "cell_type": "markdown",
   "metadata": {},
   "source": [
    "# Initializing Count Vectorizer"
   ]
  },
  {
   "cell_type": "code",
   "execution_count": 23,
   "metadata": {},
   "outputs": [],
   "source": [
    "vectorizer = CountVectorizer(stop_words=stopset, binary=True)\n",
    "vectorizer = CountVectorizer()\n"
   ]
  },
  {
   "cell_type": "code",
   "execution_count": 24,
   "metadata": {},
   "outputs": [],
   "source": [
    "X = vectorizer.fit_transform(data.v2)\n"
   ]
  },
  {
   "cell_type": "code",
   "execution_count": 25,
   "metadata": {},
   "outputs": [],
   "source": [
    "y = data.mapped_data"
   ]
  },
  {
   "cell_type": "markdown",
   "metadata": {},
   "source": [
    "# Splitting data for Training and Testing"
   ]
  },
  {
   "cell_type": "code",
   "execution_count": 26,
   "metadata": {},
   "outputs": [],
   "source": [
    "\n",
    "X_train, X_test, y_train, y_test = train_test_split(X,y,test_size=0.3, train_size=0.7, random_state=None)\n"
   ]
  },
  {
   "cell_type": "markdown",
   "metadata": {},
   "source": [
    "# Visualizing the Training and Test Data"
   ]
  },
  {
   "cell_type": "code",
   "execution_count": 27,
   "metadata": {},
   "outputs": [
    {
     "name": "stdout",
     "output_type": "stream",
     "text": [
      "Training set = 1100 samples.\n",
      "Testing set = 472 samples.\n"
     ]
    }
   ],
   "source": [
    "print(\"Training set = {} samples.\".format(X_train.shape[0]))\n",
    "print(\"Testing set = {} samples.\".format(X_test.shape[0]))"
   ]
  },
  {
   "cell_type": "markdown",
   "metadata": {},
   "source": [
    "# Algorithms Used"
   ]
  },
  {
   "cell_type": "code",
   "execution_count": 28,
   "metadata": {},
   "outputs": [],
   "source": [
    "algorithms = ('SVM', 'KNN','DecisionTree','NaiveBayes')"
   ]
  },
  {
   "cell_type": "markdown",
   "metadata": {},
   "source": [
    "# Function to train the Model\n"
   ]
  },
  {
   "cell_type": "code",
   "execution_count": 29,
   "metadata": {},
   "outputs": [],
   "source": [
    "def train_model(model, X_train, y_train):\n",
    "    model.fit(X_train, y_train)"
   ]
  },
  {
   "cell_type": "markdown",
   "metadata": {},
   "source": [
    "# Function to predict the class of the message "
   ]
  },
  {
   "cell_type": "code",
   "execution_count": 30,
   "metadata": {},
   "outputs": [],
   "source": [
    "def predict(model, features):\n",
    "    return(model.predict(features))"
   ]
  },
  {
   "cell_type": "markdown",
   "metadata": {},
   "source": [
    "# Initializing the Models"
   ]
  },
  {
   "cell_type": "code",
   "execution_count": 31,
   "metadata": {},
   "outputs": [],
   "source": [
    "A = LinearSVC()\n",
    "B = KNeighborsClassifier(n_neighbors=1)\n",
    "C = tree.DecisionTreeClassifier()\n",
    "D = GaussianNB()\n"
   ]
  },
  {
   "cell_type": "code",
   "execution_count": 32,
   "metadata": {},
   "outputs": [],
   "source": [
    "model = [A,B,C,D]\n",
    "acc_score  = [0,0,0,0]"
   ]
  },
  {
   "cell_type": "markdown",
   "metadata": {},
   "source": [
    "# Running the Models"
   ]
  },
  {
   "cell_type": "code",
   "execution_count": 33,
   "metadata": {},
   "outputs": [
    {
     "name": "stdout",
     "output_type": "stream",
     "text": [
      "SVM\n",
      "Accuracy in %: 94.0677966101695\n",
      "\n",
      "\n",
      "KNN\n",
      "Accuracy in %: 84.11016949152543\n",
      "\n",
      "\n",
      "DecisionTree\n",
      "Accuracy in %: 91.3135593220339\n",
      "\n",
      "\n",
      "NaiveBayes\n",
      "Accuracy in %: 94.49152542372882\n",
      "\n",
      "\n"
     ]
    }
   ],
   "source": [
    "for i in range(0,4):\n",
    "     print(algorithms[i])\n",
    "     if(i != 3):   \n",
    "         train_model(model[i], X_train, y_train)\n",
    "         y_pred = predict(model[i], X_test)\n",
    "     else:\n",
    "         train_model(model[i], X_train.toarray(), y_train)\n",
    "         y_pred = predict(model[i], X_test.toarray())\n",
    "     \n",
    "     acc_score[i] = accuracy_score(y_test, y_pred, normalize=True, sample_weight=None)\n",
    "     print(\"Accuracy in %:\",acc_score[i]*100)\n",
    "     print(\"\\n\")"
   ]
  },
  {
   "cell_type": "markdown",
   "metadata": {},
   "source": [
    "# Comparison of Models "
   ]
  },
  {
   "cell_type": "code",
   "execution_count": 34,
   "metadata": {
    "scrolled": false
   },
   "outputs": [
    {
     "data": {
      "image/png": "[encoded data removed]",
      "text/plain": [
       "<Figure size 432x288 with 1 Axes>"
      ]
     },
     "metadata": {},
     "output_type": "display_data"
    }
   ],
   "source": [
    "index = np.arange(len(algorithms))\n",
    "value = [i for i in acc_score]\n",
    "plt.bar(index, value)\n",
    "plt.xticks(index, algorithms)\n",
    "plt.ylabel('Accuracy Score')\n",
    "plt.show()"
   ]
  },
  {
   "cell_type": "markdown",
   "metadata": {},
   "source": [
    "# Visualization"
   ]
  },
  {
   "cell_type": "markdown",
   "metadata": {},
   "source": []
  },
  {
   "cell_type": "markdown",
   "metadata": {},
   "source": [
    "# User Input"
   ]
  },
  {
   "cell_type": "code",
   "execution_count": 35,
   "metadata": {},
   "outputs": [
    {
     "name": "stdout",
     "output_type": "stream",
     "text": [
      "{'said': 3563, 'kiss': 2496, 'can': 1261, 'do': 1658, 'the': 4090, 'sound': 3823, 'effects': 1739, 'he': 2193, 'is': 2399, 'gorgeous': 2100, 'man': 2718, 'isn': 2403, 'kind': 2491, 'of': 3030, 'person': 3171, 'who': 4512, 'needs': 2945, 'smile': 3775, 'to': 4157, 'brighten': 1184, 'his': 2239, 'day': 1562, 'lt': 2667, 'gt': 2134, 'ish': 2401, 'minutes': 2812, 'was': 4449, 'ago': 818, 'wtf': 4590, 'bank': 1012, 'granite': 2117, 'issues': 2405, 'strong': 3927, 'buy': 1224, 'explosive': 1829, 'pick': 3190, 'for': 1957, 'our': 3105, 'members': 2778, 'up': 4316, 'over': 3111, '300': 446, 'nasdaq': 2927, 'symbol': 4012, 'cdgt': 1297, 'that': 4087, '00': 0, 'per': 3163, 'free': 1974, 'polyphonic': 3258, 'ringtone': 3513, 'text': 4070, 'super': 3980, '87131': 689, 'get': 2051, 'your': 4641, 'poly': 3253, 'tone': 4172, 'week': 4478, 'now': 3003, '16': 353, 'sn': 3787, 'pobox202': 3237, 'nr31': 3006, '7zs': 625, 'subscription': 3950, '450pw': 520, 'message': 2785, 'thanks': 4083, 'using': 4348, 'auction': 962, 'service': 3651, '18': 358, '150p': 342, 'msgrcvd': 2884, 'skip': 3751, 'an': 870, 'txt': 4257, 'out': 3106, 'unsubscribe': 4312, 'stop': 3903, 'customercare': 1528, '08718726270': 159, '123': 321, 'congratulations': 1440, 'in': 2344, 'this': 4113, 'competition': 1420, 'draw': 1696, 'have': 2187, 'won': 4561, '1450': 335, 'prize': 3319, 'claim': 1357, 'just': 2464, 'call': 1239, '09050002311': 192, 'b4280703': 986, 'cs': 1502, 'sms': 3782, '08718727868': 165, 'only': 3064, '150ppm': 346, '449071512431': 516, 'urgent': 4333, '2nd': 429, 'attempt': 957, 'contact': 1449, '1250': 323, '09071512433': 276, 'b4': 984, '050703': 18, 'csbcm4235wc1n3xx': 1503, 'callcost': 1243, 'mobilesvary': 2838, 'maxå': 2753, '50': 543, 'pls': 3224, 'bootydelious': 1136, '32': 461, 'inviting': 2388, 'you': 4639, 'be': 1039, 'her': 2221, 'friend': 1984, 'reply': 3472, 'yes': 4626, '434': 507, 'or': 3080, 'no': 2977, 'see': 3623, 'www': 4593, 'ac': 755, 'send': 3640, 'frnd': 1990, '62468': 579, '07732584351': 29, 'rodger': 3526, 'burns': 1215, 'msg': 2881, 'we': 4463, 'tried': 4222, 're': 3397, 'nokia': 2981, 'mobile': 2835, 'camcorder': 1257, 'please': 3220, '08000930705': 56, 'delivery': 1597, 'tomorrow': 4170, '08714712388': 132, 'between': 1075, '10am': 304, '7pm': 623, 'cost': 1467, '10p': 306, '09066362231': 263, '07xxxxxxxxx': 50, '000': 1, 'bonus': 1128, 'caller': 1247, 'on': 3056, '02': 8, '06': 20, '03': 14, 'reach': 3398, 'asap': 938, '0a': 294, 'networks': 2954, 'allow': 847, 'companies': 1416, 'bill': 1086, 'so': 3792, 'they': 4104, 'are': 921, 'responsible': 3486, 'their': 4093, 'suppliers': 3983, '20': 377, 'which': 4509, 'guess': 2139, 'isnt': 2404, 'bad': 998, 'miss': 2814, 'ya': 4613, 'need': 2943, 'want': 4440, 'love': 2654, '10': 295, 'min': 2798, 'later': 2541, '100': 296, 'dating': 1558, 'cal': 1236, '09064012103': 241, 'box334sk38ch': 1155, '1000': 297, 'flirting': 1932, 'girl': 2065, 'bloke': 1111, 'ur': 4329, 'name': 2919, 'age': 812, 'eg': 1741, 'zoe': 4655, '8007': 630, 'join': 2444, 'and': 872, 'chatting': 1326, 'girls': 2066, 'many': 2724, 'local': 2619, 'virgins': 4391, 'ready': 3405, '4fil': 530, 'every': 1803, 'sexual': 3663, 'theirs': 4094, 'cute': 1532, '69911': 594, '50p': 550, 'days': 1563, 'euro2004': 1795, 'kickoff': 2487, 'will': 4525, 'kept': 2479, 'informed': 2364, 'all': 844, 'latest': 2542, 'news': 2960, 'results': 3492, 'daily': 1543, 'euro': 1794, '83222': 657, '1st': 369, 'wk': 4549, 'gr8': 2111, 'tones': 4173, 'str8': 3917, 'each': 1720, 'classic': 1363, 'hit': 2240, 'polys': 3259, '200p': 385, '146tf150p': 336, '22': 392, 'kick': 2485, 'off': 3031, 'date': 1555, 'with': 4544, 'removed': 3459, '25p': 404, 'alfie': 840, 'moon': 2863, 'children': 1341, 'song': 3809, 'mob': 2833, 'tell': 4054, 'm8s': 2691, 'charity': 1317, 'nokias': 2984, 'zed': 4654, '08701417012': 83, 'profit': 3333, '2p': 433, 'germany': 2050, '08448350055': 70, 'from': 1995, 'bt': 1199, 'line': 2594, 'check': 1330, 'planettalkinstant': 3212, 'com': 1406, 'info': 2362, 'opt': 3076, 'tarot': 4027, 'texts': 4078, 'find': 1908, 'about': 749, 'life': 2582, 'try': 4235, 'chance': 1307, '85555': 678, 'after': 806, 'msgs': 2887, 'received': 3422, 'content': 1451, 'enjoy': 1772, 'oclock': 3028, 'at': 952, 'mine': 2803, 'bash': 1023, 'flat': 1927, 'plan': 3210, '44': 508, '7732584351': 615, 'new': 2958, '3510i': 467, 'colour': 1404, 'phone': 3182, 'deliveredtomorrow': 1596, 'any': 886, '449050000301': 515, 'price': 3313, '09050000301': 184, '4mths': 535, 'half': 2159, 'orange': 3084, 'rental': 3464, 'camera': 1259, 'phones': 3184, 'had': 2150, '11mths': 315, 'mobilesdirect': 2837, '08000938767': 57, 'update': 4318, 'or2stoptxt': 3082, 'top': 4186, '087018728737': 88, 'national': 2934, 'rate': 3387, 'toppoly': 4188, 'tune': 4248, 'sent': 3644, 'subpoly': 3942, '81618': 645, 'pole': 3250, 'unsub': 4311, '08718727870': 166, '500': 544, 'mobiles': 2836, '2004': 381, 'must': 2906, 'go': 2078, '89545': 709, 'collect': 1400, 'yours': 4644, 'today': 4160, 'tc': 4038, 'biz': 1099, '2optout': 432, '087187262701': 160, '50gbp': 549, 'mtmsg18': 2894, 'txtauction': 4261, 'ok': 3046, '80488': 638, 'll': 2612, 'credit': 1490, 'account': 768, '5p': 567, 'esplanade': 1790, 'ì_': 4659, 'mind': 2800, 'giving': 2072, 'me': 2759, 'lift': 2585, 'cos': 1466, 'got': 2102, 'car': 1270, '74355': 606, 'xmas': 4600, 'iscoming': 2400, 'awarded': 978, 'either': 1747, 'cd': 1296, 'gift': 2062, 'vouchers': 4405, 'entry': 1781, 'weekly': 4481, 'music': 2904, '87066': 685, 'tnc': 4155, 'still': 3896, 'there': 4100, 'if': 2325, 'scrounge': 3607, 'some': 3796, 'ammo': 863, 'give': 2069, 'ak': 832, 'no1': 2978, 'txting': 4263, 'mates': 2744, 'getzed': 2057, 'co': 1389, 'uk': 4278, 'pobox': 3232, '36504': 470, 'w4': 4417, '5wq': 570, 'norm': 2991, '83039': 653, '62735': 580, '450': 518, 'break': 1173, 'accommodationvouchers': 764, 'terms': 4066, 'conditions': 1434, 'apply': 908, 'mustprovide': 2907, 'number': 3012, '15541': 352, '85233': 676, 'real': 3406, '87077': 687, 'season': 3613, '2wks': 441, 'goals': 2081, 'club': 1377, 'villa': 4384, '88066': 696, 'lost': 2645, '3pound': 487, 'help': 2213, '88800': 700, '89034': 704, 'premium': 3298, 'services': 3652, '08718711108': 155, 'forwarded': 1967, '21870000': 390, 'hi': 2231, 'mailbox': 2709, 'messaging': 2787, 'alert': 836, 'messages': 2786, '21': 389, 'matches': 2742, 'back': 996, '09056242159': 198, 'retrieve': 3494, '40': 493, 'cc100p': 1295, '448712404000': 514, '08712404000': 121, 'immediately': 2334, 'as': 937, 'waiting': 4427, '88877': 702, 'into': 2382, '250': 402, 'comp': 1415, 'word': 4568, 'enter': 1776, 'textcomp': 4074, 'famous': 1858, 'quote': 3370, 'when': 4504, 'develop': 1610, 'ability': 745, 'listen': 2604, 'anything': 891, 'unconditionally': 4294, 'without': 4547, 'losing': 2644, 'temper': 4058, 'self': 3635, 'confidence': 1436, 'it': 2406, 'means': 2762, 'married': 2733, 'gram': 2114, 'usually': 4351, 'runs': 3552, 'like': 2588, 'eighth': 1745, 'smarter': 3772, 'though': 4119, 'gets': 2052, 'almost': 848, 'whole': 4513, 'second': 3615, 'link': 2598, 'picture': 3196, 'has': 2182, 'been': 1051, 'also': 853, 'use': 4342, 'http': 2291, 'alto18': 857, 'wave': 4458, 'asp': 947, '44345': 511, 'swt': 4010, 'thought': 4120, 'nver': 3016, 'tired': 4142, 'doing': 1670, 'little': 2606, 'things': 4107, 'lovable': 2653, 'persons': 3173, 'coz': 1479, 'somtimes': 3807, 'those': 4117, 'occupy': 3025, 'biggest': 1084, 'part': 3139, 'hearts': 2204, 'gud': 2137, 'ni8': 2963, '400': 494, 'reward': 3502, 'computer': 1427, 'randomly': 3384, 'picked': 3191, 'loyal': 2662, 'customers': 1529, 'receive': 3420, '09066380611': 270, 'asked': 944, '3mobile': 486, '0870': 77, 'chatlines': 1324, 'inclu': 2349, 'mins': 2810, 'india': 2358, 'cust': 1525, 'servs': 3653, 'sed': 3622, 'l8er': 2511, 'mega': 2772, 'dont': 1676, 'giv': 2068, 'shit': 3682, 'bailiff': 1004, 'due': 1714, '800': 627, 'aaooooright': 741, 'work': 4570, 'actually': 782, 'deleted': 1594, 'my': 2910, 'old': 3051, 'website': 4471, 'blogging': 1109, 'magicalsongs': 2706, 'blogspot': 1110, 'adult': 796, 'video': 4378, 'shortly': 3695, 'aft': 805, 'finish': 1913, 'lunch': 2675, 'then': 4098, 'str': 3916, 'down': 1688, 'lor': 2640, 'ard': 920, 'smth': 3786, 'already': 851, 'ah': 820, 'poop': 3261, 'looks': 2638, 'ill': 2329, 'prob': 3324, 'laptop': 2533, 'fixed': 1922, 'cuz': 1536, 'gpu': 2110, 'problem': 3326, 'ahhh': 823, 'vaguely': 4355, 'remember': 3453, 'what': 4500, 'does': 1661, 'feel': 1880, 'lol': 2628, 'aight': 827, 'yo': 4636, 'dats': 1559, 'straight': 3918, 'dogg': 1665, 'cash': 1282, 'close': 1371, 'by': 1230, 'around': 931, 'alex': 839, 'place': 3208, 'aiyo': 831, 'always': 858, 'ex': 1809, 'one': 3060, 'dunno': 1716, 'abt': 751, 'mei': 2774, 'she': 3673, 'haven': 2188, 'first': 1917, 'time': 4137, 'fast': 1868, 'lucky': 2671, 'not': 2995, 'workin': 4571, 'huh': 2293, 'bao': 1017, 'sugardad': 3963, 'gee': 2039, 'done': 1675, 'handed': 2165, 'celebrations': 1300, 'full': 2003, 'swing': 4008, 'yet': 4629, 'best': 1070, 'driving': 1704, 'tmr': 4153, 'well': 4487, 'until': 4315, 'slightly': 3763, 'disastrous': 1645, 'class': 1362, 'pm': 3229, 'fav': 1873, 'darlings': 1551, 'hope': 2262, 'coffee': 1394, 'wld': 4554, 'good': 2095, 'stay': 3884, 'late': 2539, 'same': 3568, 'allo': 846, 'braved': 1171, 'buses': 1217, 'taken': 4020, 'trains': 4207, 'triumphed': 4225, 'mean': 2761, 'ham': 2162, 'jolly': 2449, 'rest': 3487, 'sec': 3614, 'alright': 852, 'goal': 2080, 'omw': 3055, 'gotta': 2107, 'change': 1309, 'order': 3087, 'half8th': 2160, 'head': 2194, 'few': 1890, 'where': 4506, 'meet': 2767, 'bringing': 1186, 'galileo': 2017, 'dobby': 1660, 'bowl': 1147, 'although': 856, 'told': 4165, 'dat': 1554, 'baig': 1003, 'face': 1842, 'watches': 4453, 'but': 1222, 'really': 3413, 'watch': 4452, 'gave': 2029, 'fr': 1971, 'thanx': 4085, 'everything': 1805, 've': 4369, 'touched': 4195, 'am': 859, 'fink': 1916, 'met': 2788, 'leave': 2560, '2day': 417, 'wiv': 4548, 'area': 922, '09099726553': 290, 'promised': 3336, 'carlie': 1277, 'callså': 1255, 'minmobsmore': 2806, 'lkpobox177hp51fl': 2611, 'interested': 2378, 'sorta': 3819, 'blown': 1117, 'him': 2237, 'couple': 1477, 'times': 4138, 'recently': 3425, 'id': 2318, 'rather': 3389, 'blue': 1119, 'looking': 2637, 'weed': 4477, 'might': 2794, 'evaporated': 1798, 'soon': 3813, 'violated': 4386, 'privacy': 3316, 'stealing': 3890, 'employer': 1758, 'paperwork': 3134, 'cool': 1456, 'again': 810, 'report': 3475, 'supervisor': 3982, 'pain': 3127, 'urination': 4336, 'thing': 4106, 'else': 1750, 'decide': 1576, 'anyway': 893, 'going': 2086, 'shopping': 3689, 'own': 3116, 'sis': 3738, 'dun': 1715, 'disturb': 1651, 'liao': 2577, 'appt': 915, 'fault': 1872, 'don': 1673, 'twice': 4253, 'castor': 1286, 'something': 3802, 'room': 3529, 'much': 2897, 'buzy': 1226, 'unique': 4303, 'enough': 1775, '30th': 456, 'august': 964, 'areyouunique': 924, 'willing': 4526, 'aptitude': 916, 'arngd': 930, 'marriage': 2732, 'while': 4510, 'walkin': 4431, 'unfortuntly': 4300, 'snake': 3788, 'bites': 1097, 'dancing': 1545, 'frnt': 1992, 'amp': 866, 'sayin': 3588, 'bite': 1096, 'entered': 1777, 'cabin': 1233, 'pa': 3120, 'happy': 2176, 'boss': 1141, 'felt': 1885, 'special': 3836, 'askd': 943, 'invited': 2387, 'apartment': 897, 'went': 4491, 'registered': 3448, 'subscriber': 3948, 'yr': 4648, 'voucher': 4404, 'receipt': 3419, 'correct': 1463, 'ans': 881, 'next': 2962, 'olympics': 3053, '80062': 629, 'sim': 3722, 'selected': 3633, 'delivered': 1595, 'door': 1679, '88600': 699, 'exp': 1818, '30apr': 452, 'optin': 3078, 'whats': 4502, 'bbc': 1030, 'charts': 1320, 'valued': 4361, 'customer': 1527, 'pleased': 3221, 'advise': 799, 'following': 1949, 'recent': 3424, 'review': 3501, '1500': 341, '09066364589': 266, '09066368470': 268, 'subscribers': 3949, 'replying': 3473, 'request': 3477, 'melle': 2776, 'oru': 3098, 'minnaminunginte': 2809, 'nurungu': 3014, 'vettam': 4374, 'set': 3654, 'callertune': 1249, 'callers': 1248, 'press': 3307, 'copy': 1460, 'friends': 1985, 'ask': 942, 'iouri': 2391, 'story': 3915, 'ten': 4060, 'home': 2258, 'watching': 4454, 'tv': 4252, 'round': 3536, 'highest': 2235, 'bid': 1081, '54': 562, 'maximum': 2752, '71': 602, 'bids': 1082, '83383': 662, 'luck': 2670, 'awesome': 980, 'last': 2537, 'somebody': 3798, 'high': 2234, 'diesel': 1623, 'bit': 1094, 'lemme': 2568, 'know': 2503, 'whenever': 4505, 'big': 1083, 'brother': 1192, '10k': 305, '150': 340, '09064018838': 246, 'ntt': 3008, 'po': 3230, 'box': 1148, 'cro1327': 1495, 'landline': 2526, 'vary': 4364, 'babe': 991, 'baby': 993, 'im': 2330, 'nasty': 2928, 'filthyguys': 1905, 'fancy': 1860, 'rude': 3549, 'sexy': 3664, 'bitch': 1095, 'how': 2285, 'slo': 3766, 'hard': 2177, 'xxx': 4606, '4msgs': 534, '2morro': 426, 'term': 4065, '2nite': 431, 'passion': 3145, 'chat': 1322, '09099726481': 289, 'luv': 2677, 'dena': 1602, 'calls': 1253, 'minmobsmorelkpobox177hp51fl': 2807, 'bangbabes': 1010, 'way': 4460, 'should': 3698, 'download': 1689, 'goto': 2106, 'wap': 4444, 'bangb': 1009, 'internet': 2380, 'menu': 2783, 'come': 1409, 'noon': 2988, 'bears': 1040, 'pic': 3189, 'nick': 2967, 'tom': 4167, 'pete': 3174, 'dick': 1615, 'fact': 1844, 'types': 4272, 'gay': 2030, 'photo': 3186, 'upload': 4323, '08718730666': 169, '08712460324': 124, 'beautiful': 1042, 'truth': 4234, 'against': 811, 'gravity': 2123, 'read': 3402, 'carefully': 1276, 'heart': 2203, 'feels': 1883, 'light': 2587, 'someone': 3799, 'very': 4373, 'heavy': 2205, 'leaves': 2561, 'night': 2969, 'beerage': 1052, 'better': 1073, 'made': 2703, 'friday': 1982, 'stuffed': 3936, 'myself': 2913, 'pig': 3200, 'yesterday': 4628, 'bleh': 1103, 'least': 2559, 'its': 2409, 'writhing': 4585, 'block': 1108, 'breaker': 1174, 'comes': 1410, 'deluxe': 1599, 'format': 1965, 'features': 1878, 'great': 2124, 'graphics': 2119, 'bbdeluxe': 1031, 'take': 4019, 'challenge': 1305, 'bloody': 1114, 'hell': 2210, 'cant': 1267, 'believe': 1063, 'forgot': 1962, 'surname': 3992, 'mr': 2876, 'clue': 1383, 'spanish': 3831, 'begins': 1059, 'bloomberg': 1115, 'center': 1301, '447797706009': 512, 'why': 4515, 'wait': 4425, 'future': 2011, 'careers': 1274, 'boltblue': 1127, 'mono': 2856, 'poly3': 3254, 'cha': 1303, 'slide': 3762, 'yeah': 4620, 'slow': 3767, 'jamz': 2422, 'toxic': 4200, 'more': 2864, 'book': 1130, 'lesson': 2571, 'sth': 3894, 'specs': 3839, 'membership': 2779, 'px3748': 3354, 'booked': 1131, 'ticket': 4131, 'pongal': 3260, 'boooo': 1135, 'quit': 3366, 'bored': 1137, 'housewives': 2283, '0871750': 149, '77': 614, '11': 309, 'landlines': 2528, 'speed': 3840, 'speedchat': 3841, '80155': 634, 'em': 1753, 'swap': 4001, 'chatter': 1325, 'chat80155': 1323, 'pobox36504w45wq': 3239, 'rcd': 3393, 'both': 1143, 'shoot': 3687, 'loads': 2616, 'bought': 1145, 'getting': 2056, 'costing': 1469, 'pound': 3278, 'offering': 3034, 'etc': 1792, 'bring': 1185, 'wendy': 4490, 'burger': 1212, 'king': 2493, 'wanna': 4439, 'play': 3215, 'footy': 1956, 'stadium': 3867, 'before': 1054, 'sept': 3647, 'large': 2535, 'coca': 1390, 'cola': 1397, 'walk': 4430, 'winner': 4534, 'busy': 1221, 'here': 2222, 'trying': 4236, 'year': 4621, 'forward': 1966, 'finally': 1907, 'meeting': 2769, 'diet': 1624, 'ate': 953, 'too': 4181, 'slices': 3761, 'pizza': 3207, 'ugh': 4277, 'college': 1403, 'arrange': 932, 'ebay': 1733, 'less': 2570, 'elsewhere': 1751, 'space': 3829, 'invaders': 2384, 'win': 4527, 'orig': 3094, 'arcade': 919, 'game': 2020, 'console': 1448, 'games': 2021, 'std': 3887, 'charge': 1314, 'o2': 3021, 'settings': 3655, 'purchase': 3348, 'monday': 2852, 'gist': 2067, '09090900040': 280, 'extreme': 1833, 'dirty': 1642, 'live': 2607, 'office': 3036, 'right': 3510, 'total': 4192, 'knows': 2504, 'sic': 3712, 'listening': 2605, '60p': 574, '24': 398, '7mp': 622, '0870753331018': 99, 'cds': 1298, '4u': 540, '125': 322, 'guaranteed': 2136, 'freeentry': 1976, 'wkly': 4552, 'xt': 4601, 'tncs': 4156, 'ldew': 2549, 'com1win150ppmx3age16': 1407, 'claire': 1360, 'havin': 2191, 'borin': 1138, 'alone': 849, 'cum': 1518, '09099725823': 286, 'xx': 4603, 'minmoremobsemspobox45po139wa': 2808, '09094100151': 281, 'cast': 1285, 'provided': 3340, 'aom': 896, 'gbp5': 2036, 'month': 2859, 'box61': 1162, 'm60': 2689, '1er': 366, 'ages': 817, '09095350301': 284, 'erotic': 1786, 'ecstacy': 1736, 'nat': 2929, 'freephone': 1980, '0800': 52, '542': 563, '0578': 19, 'pence': 3160, 'minute': 2811, 'via': 4375, 'access': 759, '0844': 69, '861': 680, '85': 672, 'prepayment': 3301, 'direct': 1638, 'telediscount': 4051, '08702490080': 90, 'tells': 4056, '09066358152': 258, '5000': 545, 'personal': 3172, 'details': 1608, 'prompts': 3339, 'careful': 1275, 'da': 1539, 'carlos': 1278, 'vibrate': 4376, 'acting': 775, 'hear': 2200, 'sipix': 3734, 'digital': 1630, '09061221066': 221, 'fromm': 1996, 'within': 4546, '28': 409, '09096102316': 285, '2moro': 424, 'jane': 2424, 'open': 3068, 'say': 3587, 'happen': 2171, 'nauseous': 2937, 'pissed': 3205, 'didn': 1619, 'eat': 1730, 'sweets': 4006, 'cause': 1290, 'planning': 3213, 'dieting': 1625, 'hungry': 2298, 'think': 4108, 'anyone': 889, 'spare': 3832, 'cashbin': 1283, 'lots': 2648, 'weekend': 4479, 'dear': 1572, 'welcome': 4486, 'ever': 1802, 'away': 979, 'these': 4101, 'freaky': 1973, 'choose': 1347, 'videos': 4381, 'shsex': 3707, 'netun': 2951, 'fgkslpopw': 1893, 'fgkslpo': 1892, 'audrey': 963, 'status': 3883, 'nuerologist': 3010, 'chk': 1344, 'belovd': 1065, 'ms': 2880, 'dict': 1616, '200': 378, 'spree': 3862, '08717895698': 153, 'mobstorequiz10ppm': 2843, 'cake': 1235, 'valentine': 4356, 'paris': 3136, 'inc': 2346, 'flight': 1928, 'hotel': 2275, '69101': 584, 'rtf': 3546, 'sphosting': 3846, 'point': 3248, 'iron': 2397, 'mu': 2896, 'sorting': 3820, 'narcotics': 2926, 'situation': 3742, 'congrats': 1439, '3g': 480, 'videophones': 4380, '09063458130': 238, 'videochat': 4379, 'wid': 4517, 'java': 2427, 'dload': 1656, 'polyph': 3257, 'noline': 2985, 'rentl': 3465, 'bx420': 1228, 'ip4': 2393, '5we': 569, 'cinema': 1355, 'pass': 3142, '09061209465': 218, 'suprman': 3987, 'matrix3': 2745, 'starwars3': 3880, '150pm': 344, '09061744553': 231, 'polyh': 3256, '3650': 469, '09066382422': 271, 'ave': 971, '3mins': 485, '300603': 448, 'post': 3270, 'bcm4284': 1034, 'ldn': 2550, 'wc1n3xx': 4462, 'easy': 1729, '08712103738': 108, 'vip': 4388, 'row': 3538, 'tickets': 4132, 'blu': 1118, 'concert': 1432, 'november': 3002, '09061104276': 216, 'ts': 4237, 'smsco': 3783, 'net': 2949, 'costå': 1472, '75max': 610, '09066660100': 274, 'code': 1393, '2309': 395, 'ore': 3089, 'mo': 2831, 'owo': 3118, 'wa': 4420, 'wish': 4539, 'moments': 2851, 'fro': 1993, 'wherever': 4508, '125gift': 324, 'yrs': 4649, 'supply': 3984, 'virgin': 4390, 'records': 3431, 'mystery': 2914, '09061104283': 217, '50pm': 553, 'approx': 914, 'win150ppmx3age16': 4528, '08718726971': 162, '08718726978': 163, 'parked': 3138, 'havent': 2189, 'wined': 4531, 'dined': 1634, 'loyalty': 2663, 'offer': 3032, 'nokia6650': 2983, 'start': 3876, '81151': 643, '4t': 537, 'ctxt': 1512, 'mtmsg': 2893, 'annoncement': 876, 'years': 4622, '07046744435': 23, 'announcement': 877, 'make': 2710, 'were': 4493, 'unable': 4287, '07090298926': 25, 'schedule': 3597, 'ref': 3438, '9307622': 725, '07099833605': 26, '9280114': 723, '0776xxxxxxx': 33, 'xchat': 4598, 'final': 1906, '86688': 682, 'msgrcvdhg': 2886, 'suite342': 3966, '2lands': 423, 'w1j6hl': 4414, '18yrs': 361, 'dave': 1560, 'notice': 2997, 'tenerife': 4063, 'holiday': 2254, 'award': 977, '09061743806': 228, 'tcs': 4040, 'sae': 3560, 'box326': 1153, 'cw25wx': 1537, 'matthew': 2747, '09063440451': 236, 'complimentary': 1425, 'lux': 2678, 'await': 974, 'collection': 1402, 'ppm150': 3284, 'box334': 1154, 'sk38xh': 3746, 'elvis': 1752, 'presleys': 3306, 'birthday': 1093, 'answer': 883, 'holder': 2252, 'airport': 830, 'lounge': 2652, 'passes': 3144, '08704439680': 93, 'booking': 1132, 'weeks': 4482, 'pc': 3155, 'tlp': 4150, 'expressoffer': 1831, 'wtlp': 4591, 'meal': 2760, 'us': 4339, 'dining': 1635, 'experiencehttp': 1822, 'vouch4me': 4403, 'etlp': 1793, 'morning': 2866, 'chechi': 1329, 'did': 1618, 'talk': 4023, 'reache': 3399, 'reached': 3400, 'railway': 3376, 'rubber': 3548, 'dollars': 1672, 'tmorrow': 4152, 'accomodate': 765, 'cherthala': 1333, 'case': 1281, 'coming': 1412, 'cochin': 1391, 'bfore': 1078, 'shall': 3670, 'accordingly': 767, 'tmorow': 4151, 'engaged': 1769, 'mail': 2708, 'tonite': 4179, 'street': 3921, 'varunnathu': 4363, 'edukkukayee': 1737, 'raksha': 3380, 'ollu': 3052, 'sense': 3643, 'december': 1575, 'entitled': 1779, '08002986906': 61, 'vco': 4368, 'depends': 1604, 'quality': 3359, 'type': 4271, 'boye': 1166, 'faded': 1846, 'glory': 2075, 'ralphs': 3382, 'maybe': 2756, 'forget': 1960, 'crave': 1485, 'most': 2867, 'sweet': 4004, 'arabian': 918, 'steed': 3891, 'mmmmmm': 2827, 'yummy': 4650, 'named': 2922, 'tampa': 4025, 'bus': 1216, 'sort': 3818, 'stuff': 3934, 'catch': 1288, 'frying': 1997, 'egg': 1742, 'tea': 4042, 'eating': 1732, 'mom': 2849, 'left': 2564, 'dinner': 1636, 'divorce': 1653, 'barbie': 1018, 'ken': 2478, 'hep': 2220, 'immunisation': 2335, 'nigeria': 2968, 'dis': 1643, 'yijue': 4633, 'jus': 2463, 'saw': 3586, 'huiming': 2294, 'num': 3011, 'ditto': 1652, 'worry': 4577, 'saying': 3589, 'anymore': 888, 'whatever': 4501, 'peace': 3157, 'ahead': 822, 'slower': 3768, 'than': 4081, 'idiot': 2323, 'everyone': 1804, 'faster': 1869, 'maniac': 2723, 'mallika': 2717, 'sherawat': 3675, 'url': 4337, 'lab': 2517, 'goggles': 2084, 'happened': 2172, 'uncomfortable': 4293, 'realize': 3410, 'thousands': 4121, 'ladies': 2519, 'running': 3551, 'tattoos': 4031, '750': 608, 'anytime': 892, 'network': 2953, 'five': 1920, 'pounds': 3279, '08002888812': 59, '08000776320': 54, 'phone750': 3183, '8000930705': 628, 'handset': 2166, 'unlimited': 4307, 'del': 1593, 'sat': 3577, '600': 571, 'inclusive': 2352, 'downloads': 1691, 'deltomorrow': 1598, 'operate': 3071, 'fifteen': 1896, 'fucking': 1999, 'respond': 3483, 'question': 3362, 'doesn': 1662, 'early': 1723, 'thus': 4130, 'shouldn': 3700, 'smoke': 3779, 'floppy': 1935, 'snappy': 3790, 'necessarily': 2941, 'expect': 1819, 'because': 1045, 'headin': 2196, 'requests': 3478, '1stchoice': 371, 'information': 2363, '08707808226': 100, 'gimme': 2064, 'lip': 2603, 'caveboy': 1293, 'turns': 4251, 'randomlly': 3383, '5min': 566, 'opening': 3070, 'dorothy': 1681, 'kiefer': 2489, 'double': 1683, 'txts': 4265, 'tariffs': 4026, 'motorola': 2869, 'sonyericsson': 3811, 'bluetooth': 1120, 'mobileupd8': 2839, '08000839402': 55, 'call2optout': 1241, 'hf8': 2229, 'linerental': 2595, 'offers': 3035, 'lf56': 2576, '6months': 599, 'available': 968, 'sony': 3810, 'n9dx': 2915, 'tooth': 4184, 'or2optout': 3081, 'hv9d': 2308, 'ringtones': 3515, 'restrictions': 3489, '1000s': 299, 'even': 1800, 'buddys': 1204, 'sir': 3736, '80082': 631, 'dude': 1713, 'ive': 2411, 'seeing': 3625, 'lotta': 2650, 'corvettes': 1465, 'lately': 2540, 'sup': 3979, 'lido': 2581, '930': 724, 'eastenders': 1727, 'quiz': 3368, 'flower': 1936, 'dot': 1682, 'compare': 1418, 'herself': 2225, 'violet': 4387, 'tulip': 4247, 'lily': 2592, '84025': 667, 'wkent': 4551, '150p16': 343, 'sen': 3639, 'eerie': 1738, 'rply': 3542, 'title': 4146, 'dracula': 1694, 'titles': 4147, 'ghost': 2059, 'addamsfa': 786, 'munsters': 2902, 'exorcist': 1817, 'twilight': 4254, 'eh': 1743, 'spell': 3842, 'naughty': 2936, 'wet': 4498, 'wrongly': 4587, 'lar': 2534, 'ela': 1748, 'kano': 2472, 'il': 2328, 'wen': 4489, 'email': 1754, 'alertfrom': 837, 'jeri': 2437, 'stewartsize': 3893, '2kbsubject': 422, 'low': 2660, 'prescripiton': 3302, 'drvgsto': 1710, 'en': 1759, 'chikku': 1338, 'nange': 2924, 'bakra': 1006, 'kalstiya': 2470, 'england': 1770, 'macedonia': 2695, 'team': 4046, 'wales': 4429, 'scotland': 3602, '4txt': 539, 'ì¼1': 4660, 'poboxox36504w45wq': 3244, 'jamster': 2421, 'videosound': 4382, 'gold': 2087, 'credits': 1492, 'videosounds': 4383, 'logos': 2627, 'musicnews': 2905, 'fun': 2005, '09701213186': 293, 'speak': 3834, 'treat': 4217, 'aids': 825, 'patent': 3149, 'trouble': 4227, 'convincing': 1454, 'tel': 4050, 'once': 3059, 'neglect': 2946, 'living': 2610, 'perfect': 3164, 'partner': 3141, 'community': 1414, '100p': 300, 'crying': 1501, 'building': 1208, 'map': 2725, 'imprtant': 2343, 'wil': 4522, 'tomorw': 4171, 'exactly': 1810, 'anyways': 894, 'far': 1865, 'jide': 2439, 'study': 3932, 'visiting': 4394, 'rayman': 3391, 'golf': 2090, 'save': 3584, 'activ8': 777, 'key': 2482, 'termsapply': 4067, 'activate': 778, 'visit': 4393, '07781482378': 34, 'billed': 1087, 'mistake': 2820, 'shortcode': 3693, '83332': 658, '08081263000': 65, 'charges': 1316, 'refunded': 3443, 'upto': 4327, '12mths': 327, '2price': 434, '100txt': 302, 'mth': 2891, '08001950382': 58, 'd3wv': 1538, 'ring': 3511, '0870737910216yrs': 96, 'true': 4228, '0845': 72, '2814032': 410, '3xå': 492, '150pw': 349, 'eå': 1838, 'nd': 2938, 'hardcore': 2178, 'porn': 3265, '69200': 585, 'hrs': 2289, 'chrgd': 1350, '2exit': 419, '49': 527, 'cross': 1496, 'ntwk': 3009, 'bundle': 1210, 'deals': 1571, 'avble': 970, 'mf': 2789, '84128': 669, 'care': 1272, '08712405020': 122, '80086': 632, 'txttowin': 4268, 'w45wq': 4418, 'norm150p': 2992, '8077': 640, 'free2day': 1975, 'st': 3866, 'george': 2049, 'jordan': 2451, '89080': 706, 'saucy': 3582, 'celeb': 1299, 'pics': 3194, 'pocketbabe': 3245, '0870241182716': 89, 'real1': 3407, 'pushbutton': 3350, 'dontcha': 1677, 'babygoodbye': 994, 'golddigger': 2088, 'webeburnin': 4470, 'freemsg': 1979, 'indicate': 2360, 'may': 2754, '3750': 473, 'accident': 761, '12': 317, 'fair': 1852, 'faith': 1853, 'makes': 2711, 'possible': 3269, 'three': 4123, 'christmas': 1352, 'merry': 2784, 'shag': 3667, 'sextextuk': 3662, 'xxuk': 4605, 'suzy': 3997, '69876': 591, 'fantasy': 1864, 'football': 1955, 'sky': 3752, 'gamestar': 2022, 'active': 779, '250k': 403, 'dream': 1698, 'scoring': 3601, 'starts': 3879, 'saturday': 3581, 'register': 3447, '88088': 697, 'ffffffffff': 1891, 'sooner': 3814, 'fighting': 1897, 'world': 4573, 'lose': 2642, 'fightng': 1898, 'some1': 3797, 'dificult': 1629, 'filthy': 1904, 'stories': 3914, 'worth': 4579, 'discount': 1646, '85023': 673, 'savamob': 3583, 'member': 2777, 'pobox84': 3243, 'm263uz': 2686, 'subs': 3943, 'match': 2740, 'heading': 2197, 'towards': 4198, 'prediction': 3295, 'fine': 1910, 'thatåõs': 4089, 'gota': 2103, 'finished': 1914, 'fear': 1877, 'fainting': 1851, 'housework': 2284, 'quick': 3364, 'cuppa': 1521, 'family': 1857, 'happiness': 2175, 'jacket': 2416, 'used': 4343, 'multis': 2899, 'sale': 3565, 'arsenal': 935, 'dartboard': 1553, 'condition': 1433, 'doubles': 1685, 'trebles': 4218, 'taking': 4022, 'survey': 3995, 'however': 2287, '80160': 635, 'txt43': 4259, 'action': 776, '80608': 639, 'movietrivia': 2873, 'custcare': 1526, '08712405022': 123, '1x150p': 375, 'shop': 3688, '80878': 641, '08715705022': 145, '83370': 661, 'trivia': 4226, 'headset': 2198, 'simply': 3726, 'adp': 793, 'found': 1969, 'enc': 1760, 'textpod': 4077, '40gb': 500, 'ipod': 2395, 'pod': 3247, 'vpod': 4406, '81303': 644, 'tms': 4154, 'widelive': 4518, 'index': 2357, 'wml': 4555, '1b6a5ecef91ff9': 364, '37819': 474, 'true18': 4229, '0430': 16, 'jul': 2459, '05': 17, 'gnarls': 2077, 'barkleys': 1020, 'crazy': 1486, 'totally': 4193, 'sub': 3940, '80182': 636, '08452810073': 75, 'fa': 1840, 'cup': 1520, 'tkts': 4149, '21st': 391, '2005': 382, '87121': 688, '08452810075over18': 76, 'gr8prizes': 2112, '8800': 694, 'psp': 3342, 'sorry': 3817, 'ordered': 3088, 'could': 1473, 'sufficient': 3961, 'single': 3731, 'people': 3161, '62220cncl': 577, 'stopcs': 3908, '08717890890å': 152, 'enjoyed': 1773, '61610': 576, '08712400602450p': 114, 'tones2you': 4175, 'mths': 2892, '674': 582, 'frog': 1994, 'mad1': 2701, 'mad2': 2702, '88888': 703, 'sounds': 3825, 'gbp': 2033, 'mini': 2805, 'snap': 3789, 'quizclub': 3369, '80122300p': 633, 'sp': 3828, 'rwm': 3555, 'ph': 3178, '08704050406': 92, 'hey': 2228, 'fones': 1953, 'wild': 4523, 'hurry': 2303, 'rcvd': 3396, 'stop2stop': 3905, 'darling': 1550, 'tb': 4036, 'chgs': 1335, 'rcv': 3395, 'wow': 4583, 'cam': 1256, 'moby': 2844, 'hot': 2274, 'w8in': 4419, '4utxt': 541, '82242': 648, 'hlp': 2242, '08712317606': 112, 'msg150p': 2882, '2rcv': 436, 'horny': 2268, 'town': 4199, 'sex': 3660, 'netcollex': 2950, 'ltd': 2668, '08700621170150p': 80, 'end': 1761, 'replied': 3470, 'randy': 3385, 'female': 1886, 'web2mobile': 4469, 'txt250': 4258, 'box139': 1150, 'la32wu': 2516, 'remove': 3458, 'txtx': 4269, 'flirt': 1931, 'uks': 4280, 'fastest': 1870, 'growing': 2130, 'optout': 3079, '83021': 652, 'buffy': 1206, '25': 401, 'satisfy': 3580, 'men': 2781, 'feeling': 1882, 'pix': 3206, 'qlynnbv': 3358, 'help08700621170150p': 2214, '86888': 683, 'hours': 2281, 'subscribe6gbp': 3946, 'mnth': 2829, '3hrs': 482, 'txtstop': 4267, 'feelin': 1881, 'kinda': 2492, 'lnly': 2614, 'keep': 2477, 'company': 1417, 'jst': 2457, 'smartcall': 3771, '68866': 583, 'subscriptn3gbp': 3952, '08448714184': 71, 'landlineonly': 2527, 'performance': 3165, 'calculated': 1237, 'two': 4256, 'current': 1523, 'period': 3168, 'standard': 3871, '9061100010': 720, 'wire3': 4537, '1st4terms': 370, 'm26': 2685, '3uz': 490, 'mobcudb': 2834, 'fuck': 1998, 'let': 2573, 'money': 2853, 'gent': 2045, 'weekends': 4480, 'shows': 3705, '09064012160': 242, 'k52': 2466, 'valid': 4358, '12hrs': 326, 'gsoh': 2133, 'spam': 3830, 'male': 2715, 'gigolo': 2063, 'mens': 2782, 'oncall': 3058, 'mjzgroup': 2822, '08714342399': 129, '2stop': 437, '50rcvd': 556, 'geeeee': 2041, 'barely': 1019, 'stand': 3870, 'lions': 2602, 'lionm': 2600, 'lionp': 2601, 'original': 3095, '3gbp': 481, 'operator': 3072, 'rates': 3388, 'player': 3217, 'movie': 2872, '89105': 707, 'extra': 1832, 'films': 1902, 'brand': 1170, 'being': 1062, 'agent': 815, 'plus': 3226, 'goodies': 2096, 'mat': 2739, '87021': 684, 'gandhipuram': 2023, 'cut': 1531, 'road': 3521, 'side': 3714, 'turn': 4249, 'official': 3037, 'flag': 1925, 'yer': 4625, 'tonights': 4178, '84199': 670, 'eng': 1768, 'box39822': 1157, 'w111wx': 4410, '08452810071': 74, 'garden': 2026, 'summer': 3971, 'selection': 3634, 'bulbs': 1209, 'seeds': 3624, '33': 465, 'scotsman': 3603, 'go2': 2079, 'notxt': 3000, 'gibbs': 2060, 'unsold': 4310, 'mike': 2795, 'hussey': 2306, 'jurong': 2462, 'bugis': 1207, 'la': 2513, 'buffet': 1205, 'cine': 1354, 'amore': 865, 'wat': 4451, 'henry': 2219, 'liverpool': 2608, 'scores': 3600, 'simple': 3724, 'shot': 3696, 'yards': 4617, 'bergkamp': 1069, 'margin': 2727, '78': 616, 'nothing': 2996, 'bye': 1231, 'thru': 4126, 'different': 1628, 'wavering': 4459, 'decisions': 1580, 'coping': 1458, 'individual': 2361, 'heal': 2199, 'takes': 4021, '28th': 412, 'feb': 1879, 'removal': 3457, '87239': 692, '08708034412': 101, 'successful': 3955, 'afternoon': 807, 'starshine': 3875, 'boytoy': 1168, 'ache': 769, 'sips': 3735, 'cappuccino': 1269, 'teasing': 4048, 'sunshine': 3978, 'dawns': 1561, 'refreshed': 3441, 'alive': 843, 'breathe': 1177, 'air': 829, 'goes': 2083, 'leads': 2556, 'job': 2442, 'passionate': 3146, 'across': 773, 'sea': 3610, 'evening': 1801, 'al': 834, 'salam': 3564, 'wahleykkum': 4424, 'sharing': 3671, 'grace': 2113, 'god': 2082, 'tayseer': 4035, 'tissco': 4145, 'joined': 2445, 'inshah': 2370, 'allah': 845, 'sometime': 3803, 'rakhesh': 3379, 'visitor': 4395, 'words': 4569, 'dismay': 1650, 'entrepreneurs': 1780, 'goodmorning': 2097, 'sleeping': 3757, 'ga': 2015, 'goodo': 2099, 'potato': 3274, 'ratio': 3390, 'tortilla': 4190, 'needed': 2944, 'lazy': 2547, 'lect': 2563, 'pouch': 3277, 'nice': 2965, 'scrumptious': 3608, 'daddy': 1542, 'wants': 4443, 'long': 2632, 'seventeen': 3658, 'seven': 3657, 'hundred': 2295, 'ml': 2824, 'ûò': 4666, 'meh': 2773, 'wrc': 4584, 'rally': 3381, 'oz': 3119, 'lucozade': 2672, 'energy': 1767, 'le': 2552, '61200': 575, 'packs': 3124, 'itcould': 2407, 'mobs': 2841, '2u': 440, 'breathe1': 1178, 'crazyin': 1487, 'sleepingwith': 3758, 'finest': 1911, 'ymca': 4635, 'pobox365o4w45wq': 3240, '300p': 450, 'sexiest': 3661, 'dirtiest': 1641, '89070': 705, 'cancel': 1263, '2stoptxt': 439, 'freefone': 1977, '08006344447': 63, '2000': 379, 'escape': 1788, 'bridge': 1182, 'lager': 2522, 'tomo': 4169, 'endowed': 1764, 'inches': 2348, 'never': 2956, 'gives': 2071, 'reasons': 3416, 'thank': 4082, 'mrng': 2878, 'hav': 2185, 'gudnite': 2138, 'practice': 3288, 'secretly': 3619, 'fancies': 1859, '09065394514': 253, 'datebox1282essexcm61xn': 1556, '09065394973': 254, 'created': 1489, 'web': 4468, 'page': 3125, 'asjesus': 941, 'wrote': 4588, 'opinions': 3074, 'bak': 1005, 'sum': 3969, 'lucyxx': 2674, 'hmv': 2246, 'genuine': 2048, 'questions': 3363, '100percent': 301, 'fantasies': 1862, '08707500020': 97, '20p': 388, '1327': 329, 'croydon': 1497, 'cr9': 1481, '5wb': 568, '08707509020': 98, 'ha': 2148, 'db': 1565, 'joke': 2446, 'seekers': 3626, 'hack': 2149, 'backdoor': 997, '121': 319, 'rooms': 3532, 'fraction': 1972, 'neo69': 2947, '09050280520': 196, 'subscribe': 3945, 'dps': 1693, 'bcm': 1032, '8027': 637, 'contract': 1453, 'mnths': 2830, 'callback': 1242, 'orno': 3096, 'months': 2862, '08002986030': 60, 'oranges': 3085, 'upd8': 4317, '2stoptx': 438, 'haf': 2152, 'stupid': 3937, 'working': 4572, 'haha': 2153, 'usf': 4346, 'lot': 2646, 'stoners': 3901, 'officially': 3038, 'paid': 3126, 'market': 2729, '8th': 717, 'mayb': 2755, 'rite': 3519, 'liked': 2589, 'gd': 2037, 'gals': 2018, 'group': 2128, 'attached': 956, 'hahaha': 2154, 'brain': 1169, 'hai': 2155, 'ana': 871, 'tomarrow': 4168, 'decimal': 1578, 'sathy': 3578, 'rto': 3547, 'came': 1258, 'decided': 1577, 'wishing': 4542, 'abiola': 746, 'connect': 1441, '09094646899': 283, 'cheap': 1327, 'vu': 4408, 'bcm1896wc1n3xx': 1033, 'ttyl': 4245, 'radio': 3375, '530': 561, 'show': 3702, 'having': 2192, 'online': 3063, 'ones': 3061, 'model': 2846, 'youi': 4640, 'womdarfull': 4559, 'actor': 781, 'shock': 3684, 'leh': 2567, 'telling': 4055, 'shuhui': 3708, 'leona': 2569, 'reaction': 3401, 'says': 3590, 'definitely': 1591, 'buying': 1225, 'guys': 2145, 'busetop': 1218, 'height': 2207, 'aeronautics': 801, 'professors': 3332, 'wer': 4492, 'calld': 1245, 'sit': 3740, 'aeroplane': 802, 'aftr': 808, 'plane': 3211, 'ws': 4589, 'students': 3931, 'dey': 1612, 'hurried': 2302, 'didnt': 1620, 'move': 2871, 'hello': 2212, 'darlin': 1549, 'kate': 2474, 'would': 4582, 'look': 2634, 'sport': 3858, 'ow': 3114, 'handsome': 2167, 'finding': 1909, 'mummy': 2901, 'geeee': 2040, 'woke': 4557, 'bed': 1049, 'cuddling': 1516, 'drink': 1700, 'texting': 4075, 'invite': 2386, 'andrews': 873, 'boy': 1165, 'cold': 1398, 'posted': 3272, 'interview': 2381, 'missing': 2816, 'posh': 3266, 'birds': 1091, 'chaps': 1312, 'user': 4345, 'trial': 4221, 'prods': 3330, 'champneys': 1306, 'put': 3351, 'address': 789, 'dob': 1659, 'ta': 4015, 'rp176781': 3540, 'further': 2010, 'regalportfolio': 3445, '08717205546': 148, 'boys': 1167, '69855': 589, '24hrs': 399, 'stopbcm': 3906, 'sf': 3666, 'naked': 2918, '69698': 588, 'charged': 1315, 'elama': 1749, 'mudyadhu': 2898, 'kb': 2476, 'other': 3102, 'lessons': 2572, 'confirm': 1437, 'lodging': 2622, '945': 726, 'deal': 1569, 'ad': 783, 'crap': 1482, 'nite': 2974, 'boggy': 1125, 'boring': 1139, 'biatch': 1080, 'til': 4135, 'nxt': 3017, 'intro': 2383, 'pilates': 3202, 'kickboxing': 2486, 'charles': 1318, 'them': 4096, 'yck': 4619, 'gautham': 2027, '07734396839': 30, 'ibh': 2312, 'nokia6600': 2982, 'completed': 1423, 'course': 1478, 'sue': 3960, 'lapdancer': 2532, 'bedroom': 1050, '89555': 710, 'textoperator': 4076, 'g2': 2013, '1da': 365, '150ppmsg': 348, 'princess': 3314, 'pretty': 3309, 'chloe': 1345, 'smashed': 3773, 'visionsms': 4392, 'abroad': 750, 'lonely': 2631, 'xxsp': 4604, 'stopcost': 3907, '08712400603': 115, 'todays': 4161, 'avoid': 973, 'missunderstding': 2817, 'wit': 4543, 'beloved': 1066, 'journey': 2454, 'hasnt': 2184, 'mas': 2736, 'lookin': 2636, 'daytime': 1564, 'busty': 1220, 'woman': 4558, '09099726429': 288, 'janinexx': 2425, 'babyjontet': 995, 'lucy': 2673, 'hubby': 2292, 'meetins': 2770, 'fri': 1981, 'cumin': 1519, '09099726395': 287, 'mate': 2743, 'rv': 3553, 'hol': 2250, 'havenåõt': 2190, 'started': 3877, 'roads': 3522, 'rvx': 3554, 'normal': 2993, 'mylife': 2911, 'wot': 4580, '2nights': 430, 'uve': 4354, 'wildest': 4524, 'amy': 869, 'sending': 3642, 'parties': 3140, '4goten': 531, 'bout': 1146, 'scammers': 3592, 'smart': 3770, 'regular': 3449, 'vodafone': 4397, 'prem': 3296, 'nos': 2994, 'beware': 1076, 'spoke': 3854, 'maneesha': 2722, 'satisfied': 3579, 'experience': 1821, 'toll': 4166, 'sexychat': 3665, 'mandy': 2721, 'sullivan': 3968, 'calling': 1252, 'hotmix': 2278, 'fm': 1941, 'chosen': 1349, 'easter': 1728, 'telephone': 4052, '09041940223': 183, '29': 414, 'transferred': 4211, 'hols': 2257, 'run': 3550, 'hairdressers': 2158, 'appointment': 910, 'four': 1970, 'shower': 3703, 'beforehand': 1055, 'hmm': 2243, 'bits': 1098, 'pieces': 3199, 'sighs': 3715, 'uncle': 4291, 'paying': 3153, 'school': 3598, 'directly': 1639, 'food': 1954, 'hmmm': 2244, 'slave': 3755, 'punish': 3347, 'thk': 4114, 'sure': 3989, 'hop': 2261, 'muz': 2909, 'discuss': 1648, 'power': 3281, 'yoga': 4637, 'tahan': 4018, 'anot': 879, 'lo': 2615, 'oso': 3100, 'field': 1894, 'quickly': 3365, 'system': 4013, 'administrator': 790, 'ho': 2248, 'belly': 1064, 'laugh': 2544, 'checking': 1331, 'hottest': 2279, 'wanting': 4442, 'costs': 1470, 'g696ga': 2014, 'touch': 4194, 'folks': 1945, 'settled': 3656, 'wishin': 4541, 'child': 1339, 'afraid': 804, 'dark': 1547, 'become': 1047, 'teenager': 4049, 'teach': 4043, 'applebees': 905, 'since': 3728, 'screamed': 3606, 'licks': 2580, 'tootsie': 4185, 'pop': 3263, 'pay': 3151, 'ip': 2392, 'test': 4068, 'considering': 1446, 'minecraft': 2804, 'server': 3650, 'outside': 3109, 'izzit': 2412, '08718730555': 168, 'deficient': 1589, 'hurt': 2304, 'tease': 4047, 'cry': 1500, 'die': 1621, 'plz': 3228, 'rose': 3533, 'grave': 2121, 'bslvyl': 1197, 'sunday': 3975, 'accidentally': 762, 'resend': 3480, 'sao': 3573, 'thinking': 4110, 'strt': 3928, 'ltdhelpdesk': 2669, '02085076972': 12, 'matter': 2746, 'tirupur': 4143, 'inner': 2366, 'tigress': 4134, 'bec': 1043, 'machan': 2697, 'borrow': 1140, 'bag': 1001, 'urgnt': 4335, 'called': 1246, 'talking': 4024, 'agree': 819, 'photos': 3187, 'useful': 4344, 'anybody': 887, 'chip': 1342, 'dled': 1655, '3d': 478, 'imp': 2336, 'hg': 2230, 'trek': 4220, 'knw': 2505, 'milk': 2797, 'jazz': 2430, 'yogasana': 4638, 'den': 1601, 'worried': 4575, 'body': 1124, 'repairs': 3467, 'itself': 2410, 'quite': 3367, 'tests': 4069, 'guide': 2140, 'ovulation': 3113, 'relax': 3450, 'reason': 3415, 'followin': 1948, 'dependents': 1603, 'printed': 3315, 'oh': 3042, 'upstairs': 4326, 'exam': 1811, 'march': 2726, 'result': 3491, 'consistently': 1447, 'intelligent': 2377, 'asking': 946, 'practicum': 3289, 'links': 2599, 'ears': 1725, 'bathe': 1027, 'finishes': 1915, 'invitation': 2385, 'apologise': 901, 'cali': 1238, 'english': 1771, 'weddin': 4473, 'grumpy': 2131, 'lying': 2681, 'jokes': 2447, 'able': 747, 'peoples': 3162, 'shy': 3710, 'massages': 2738, 'oil': 3044, 'fave': 1874, 'position': 3267, 'soo': 3812, 'donåõt': 1678, 'understand': 4298, '2morrow': 427, 'stranger': 3919, 'stands': 3872, 'friendship': 1987, 'ends': 1765, 'lets': 2574, 'forever': 1959, 'nitz': 2976, 'msn': 2888, 'hotmail': 2277, 'points': 3249, 'cultures': 1517, 'module': 2847, 'promise': 3335, 'letter': 2575, 'sophas': 3816, 'secondary': 3616, 'application': 907, 'schools': 3599, 'applying': 909, 'research': 3479, 'ogunrinde': 3041, 'expensive': 1820, 'bucks': 1202, 'reading': 3404, 'caroline': 1279, 'favourite': 1875, 'bless': 1104, 'taught': 4032, 'ranjith': 3386, 'becaus': 1044, 'hes': 2226, 'verifying': 4371, 'project': 3334, 'prabu': 3287, 'cock': 1392, 'wife': 4520, '89938': 712, 'strings': 3924, 'rec': 3417, '50ea': 548, 'otbox': 3101, '731': 605, 'la1': 2514, '7ws': 624, 'wanted': 4441, 'hour': 2280, 'spoil': 3852, 'wnt': 4556, 'bmw': 1122, 'urgently': 4334, 'vry': 4407, 'hv': 2307, 'shortage': 3691, 'lacs': 2518, 'source': 3827, 'arng': 929, 'amt': 868, 'thats': 4088, 'wonder': 4563, 'battery': 1028, 'dead': 1568, 'wont': 4565, 'concentration': 1430, 'deepest': 1586, 'darkest': 1548, '09094646631': 282, 'sign': 3716, 'track': 4201, 'record': 3429, 'women': 4560, 'drop': 1705, 'sleep': 3756, 'unemployed': 4299, 'moment': 2850, 'packing': 3123, 'bath': 1026, 'mum': 2900, 'present': 3304, 'ar': 917, 'gonna': 2094, 'tonight': 4177, 'cried': 1494, 'starting': 3878, 'panic': 3131, 'tuesday': 4246, 'leaving': 2562, 'house': 2282, 'nt': 3007, 'goin': 2085, 'somethin': 3801, 'unless': 4306, 'meetin': 2768, 'tis': 4144, 'wif': 4519, 'scared': 3593, 'mah': 2707, 'loud': 2651, 'meant': 2763, 'alternative': 855, 'excited': 1812, 'spend': 3844, 'league': 2557, 'gone': 2093, '4the': 538, 'arguing': 926, 'agents': 816, 'boston': 1142, 'nyc': 3019, 'experiment': 1823, 'searching': 3612, 'breather': 1179, 'granted': 2118, 'fulfil': 2002, 'wonderful': 4564, 'blessing': 1105, 'hoping': 2265, 'l8r': 2512, 'malaria': 2713, 'bani': 1011, 'especially': 1789, 'grinule': 2127, 'greet': 2126, 'important': 2338, '0796xxxxxx': 48, 'log': 2623, 'onto': 3065, 'urawinner': 4330, 'fantastic': 1863, 'prizeawaiting': 3320, 'claims': 1359, 'dept': 1605, 'expires': 1825, '13': 328, '04': 15, '08717507382': 150, 'interflora': 2379, 'åòit': 4658, 'flowers': 1937, '505060': 546, 'midnight': 2793, 'another': 880, 'polo': 3252, 'suite': 3965, '373': 472, 'london': 2630, 'w1j': 4413, '6hl': 598, 'apeshit': 898, '2mrw': 428, 'ninish': 2972, 'icky': 2316, 'american': 862, 'freek': 1978, 'callin': 1251, 'jen': 2434, 'imagine': 2331, 'sink': 3733, 'through': 4124, 'paces': 3121, 'cage': 1234, 'surrounded': 3994, 'water': 4455, 'reminding': 3456, 'owns': 3117, 'cuck': 1513, 'simpsons': 3727, 'released': 3451, 'july': 2460, '2007': 384, 'band': 1008, 'died': 1622, 'film': 1901, 'green': 2125, 'red': 3434, 'seriously': 3649, 'spoken': 3855, 'xy': 4611, 'goodnight': 2098, 'fix': 1921, 'wake': 4428, 'dearly': 1574, 'missed': 2815, 'fixes': 1924, 'spelling': 3843, 'sometimes': 3804, 'completely': 1424, 'diff': 1626, 'figure': 1899, 'doesnt': 1663, 'wikipedia': 4521, 'seems': 3629, 'weird': 4485, 'timing': 4139, 'shitstorm': 3683, 'attributed': 961, 'making': 2712, 'avalarr': 969, 'hollalater': 2256, 'took': 4182, 'owl': 3115, 'suggest': 3964, 'stays': 3886, 'ors': 3097, 'stool': 3902, '15': 339, 'imma': 2333, 'noe': 2979, 'iq': 2396, 'answers': 884, 'loves': 2659, 'ques': 3361, 'suits': 3967, 'voice': 4398, 'earn': 1724, 'pan': 3129, 'perhaps': 3167, 'silly': 3721, 'likely': 2590, 'joking': 2448, 'wallpaper': 4433, '08701213186': 81, 'january': 2426, 'cheaper': 1328, '08709222922': 103, '8p': 715, 'peak': 3159, 'jay': 2428, 'faggot': 1847, 'horniest': 2267, 'dogging': 1667, 'follow': 1946, 'instructions': 2375, '69888': 592, 'nyt': 3020, 'ec2a': 1734, '3lp': 484, 'jos': 2453, 'wana': 4438, 'jeremiah': 2436, 'forced': 1958, 'slice': 3760, 'tho': 4116, 'sucks': 3959, 'mark': 2728, 'sick': 3713, 'û_': 4662, 'hadn': 2151, 'clocks': 1369, 'shouted': 3701, 'realised': 3408, 'wahay': 4423, 'surfing': 3991, 'yetunde': 4630, 'hasn': 2183, 'bother': 1144, 'involve': 2390, 'yourself': 4645, 'imposed': 2339, 'fyi': 2012, 'ride': 3509, 'crashing': 1484, 'performed': 3166, 'advance': 798, 'apo': 899, 'kvb': 2508, 'acc': 756, 'detail': 1607, 'transfer': 4209, 'kallis': 2469, 'bat': 1025, 'innings': 2367, 'jackson': 2418, '7ish': 621, 'payasam': 3152, 'rinu': 3517, 'brings': 1187, 'safe': 3561, 'envy': 1784, 'kit': 2498, 'strip': 3925, '1013': 303, 'ig11': 2326, 'oja': 3045, 'knock': 2502, 'whose': 4514, 'store': 3912, 'choice': 1346, 'tkls': 4148, 'age16': 813, 'stoptxtstopå': 3911, 'truly': 4232, 'plans': 3214, 'ure': 4331, 'lord': 2641, 'rings': 3512, 'return': 3495, 'lotr': 2647, 'june': 2461, 'soundtrack': 3826, 'stdtxtrate': 3888, '08717898035': 154, 'police': 3251, 'station': 3882, 'toilet': 4163, 'stolen': 3899, 'cops': 1459, 'mp3': 2874, 'proze': 3341, '83355': 660, 'norcorp': 2990, 'mtmsgrcvd18': 2895, 'de': 1567, 'prepare': 3300, 'qatar': 3356, 'search': 3611, 'opportunity': 3075, 'add': 785, 'prayers': 3292, 'snow': 3791, 'weather': 4467, 'ppl': 3282, 'together': 4162, 'friendships': 1988, 'grow': 2129, 'strict': 3923, 'teacher': 4044, 'bcoz': 1036, 'teaches': 4045, 'conducts': 1435, 'loan': 2617, 'purpose': 3349, '75': 607, 'homeowners': 2259, 'tenants': 4061, 'previously': 3312, 'refused': 3444, '1956669': 363, 'loans': 2618, 'noworriesloans': 3005, '08717111821': 146, 'dramatic': 1695, 'closed': 1372, 'apparently': 903, 'drive': 1702, 'inch': 2347, 'supposed': 3986, 'trust': 4233, 'forgiven': 1961, 'hanging': 2169, 'thread': 4122, 'steak': 3889, 'drunkard': 1709, 'hair': 2157, 'wats': 4456, 'lolnice': 2629, 'fish': 1918, 'lookatme': 2635, 'clip': 1368, '35p': 468, 'mmsto': 2828, '32323': 463, 'decision': 1579, 'simpler': 3725, 'magical': 2705, 'scream': 3605, 'pleasure': 3223, 'slap': 3754, 'ass': 948, 'aathi': 742, 'lovely': 2656, 'smell': 3774, 'ain': 828, 'tobacco': 4158, 'concerned': 1431, 'luton': 2676, '0125698789': 7, 'macha': 2696, 'upset': 4325, 'assume': 949, 'mindset': 2802, 'begin': 1058, 'discreet': 1647, 'instantly': 2374, '69969': 595, 'bcmsfwc1n3xx': 1035, 'marvel': 2735, 'ultimate': 4281, 'spider': 3847, '83338': 659, '8ball': 714, 'westshore': 4497, 'hyde': 2310, 'park': 3137, 'village': 4385, 'near': 2939, 'card': 1271, 'wetherspoons': 4499, 'funny': 2009, 'meanwhile': 2764, 'xavier': 4597, 'seconds': 3617, 'warning': 4447, 'samantha': 3567, 'playing': 3218, 'guitar': 2142, 'impress': 2340, 'doug': 1687, 'realizes': 3412, 'shorter': 3694, 'gaze': 2032, 'eyes': 1837, 'kisses': 2497, 'surprise': 3993, 'awaiting': 975, 'sender': 3641, 'fullonsms': 2004, 'mila': 2796, 'age23': 814, 'blonde': 1112, 'mtalk': 2890, '69866': 590, '30pp': 454, '5free': 564, 'increments': 2356, 'help08718728876': 2216, 'blastin': 1102, 'tsunamis': 4243, 'occur': 3026, 'rajnikant': 3378, 'stopped': 3909, 'swimming': 4007, 'indian': 2359, 'ocean': 3027, 'numbers': 3013, '07008009200': 22, 'yelling': 4623, 'scrappy': 3604, 'mm': 2825, 'mmm': 2826, 'jolt': 2450, 'items': 2408, '7cfca1a': 620, 'pub': 3346, 'duchess': 1712, 'cornwall': 1461, '82277': 649, '008704050406': 2, 'arrow': 934, 'wining': 4533, '946': 727, 'monthly': 2860, 'password': 3147, 'mobsi': 2842, '391784': 476, '09090204448': 279, 'minded': 2801, 'aå': 983, 'minapn': 2799, 'ls278bb': 2666, 'ge': 2038, 'zaher': 4652, 'ym': 4634, 'sad': 3559, 'sister': 3739, 'cleared': 1366, 'birla': 1092, 'soft': 3793, 'law': 2545, 'natwest': 2935, 'stomach': 3900, 'trauma': 4214, 'swear': 4003, 'weight': 4484, 'nah': 2917, 'lives': 2609, 'iphone': 2394, 'bud': 1203, 'drinks': 1701, 'natalie': 2931, '165': 354, 'natalie2k9': 2932, 'natalja': 2933, '440': 509, 'nat27081980': 2930, 'neva': 2955, 'textbuddy': 4073, 'postcode': 3271, 'gaytextbuddy': 2031, '89693': 711, '08715500022': 144, 'rpl': 3541, 'cnl': 1387, 'theory': 4099, 'argument': 927, 'wins': 4536, 'loses': 2643, 'argue': 925, 'include': 2350, 'mcfly': 2757, 'ab': 743, 'sara': 3574, 'jorge': 2452, 'smith': 3778, 'switch': 4009, 'parents': 3135, 'hand': 2164, 'broken': 1191, 'infront': 2365, 'wise': 4538, '9t': 737, 'ended': 1762, 'sunny': 3976, 'rays': 3392, 'worries': 4576, 'bay': 1029, 'pt2': 3344, '87575': 693, 'txtin': 4262, 'hl': 2241, '4info': 532, 'version': 4372, 'spring': 3863, 'yay': 4618, 'befor': 1053, 'activities': 780, 'objection': 3024, 'bf': 1077, 'sell': 3636, 'tons': 4180, 'coins': 1396, 'paypal': 3154, 'voila': 4400, 'pockets': 3246, 'nok': 2980, 'tat': 4029, 'none': 2986, 'happening': 2173, 'nope': 2989, 'sch': 3596, 'anywhere': 895, 'damn': 1544, 'hunting': 2301, 'heard': 2201, 'u4': 4275, 'private': 3317, '01223585334': 6, 'wan': 4436, '2c': 415, 'gettin': 2055, 'shagged': 3668, '8552': 677, '2end': 418, 'sam': 3566, 'knickers': 2501, 'beg': 1056, '01223585236': 5, 'nikiyu4': 2971, 'hold': 2251, 'tot': 4191, 'ba': 989, 'gua': 2135, 'mt': 2889, 'faber': 1841, 'yest': 4627, 'enters': 1778, 'transfered': 4210, 'banks': 1013, 'differ': 1627, '9ja': 735, 'nutter': 3015, 'cutter': 1534, 'ctter': 1510, 'cttergg': 1511, 'cttargg': 1509, 'ctargg': 1508, 'ctagg': 1507, 'ie': 2324, 'uv': 4353, 'causes': 1291, 'mutations': 2908, 'sunscreen': 3977, 'essential': 1791, 'thesedays': 4102, 'dao': 1546, 'fridge': 1983, 'glad': 2073, 'xafter': 4596, 'cst': 1506, 'chg': 1334, 'oic': 3043, 'din': 1633, 'btw': 1200, 'alibi': 842, 'cutting': 1535, 'tough': 4196, 'optimistic': 3077, 'improve': 2341, 'dresser': 1699, 'wun': 4592, 'short': 3690, 'oni': 3062, 'warm': 4445, 'magic': 2704, 'loose': 2639, 'gym': 2146, 'typical': 4273, 'okay': 3047, 'legal': 2565, 'ams': 867, 'shining': 3678, 'signing': 3719, 'okie': 3048, 'okies': 3049, 'yan': 4615, 'jiu': 2440, 'mrt': 2879, 'blah': 1101, 'omg': 3054, 'weighed': 4483, 'woohoo': 4567, 'ma': 2693, 'ashley': 939, 'small': 3769, 'prestige': 3308, 'oooh': 3066, 'ridden': 3508, 'ey': 1834, 'oops': 3067, 'roommate': 3530, 'closer': 1373, 'fat': 1871, 'fingers': 1912, 'buttons': 1223, 'chart': 1319, 'heroes': 2223, 'receiving': 3423, 'tips': 4141, 'upgrade': 4320, '0207': 9, '153': 351, '9996': 732, '14thmarch': 338, 'availa': 967, 'prashanthettan': 3290, 'mother': 2868, 'passed': 3143, 'pray': 3291, 'arrive': 933, 'install': 2371, 'browse': 1195, 'artists': 936, '09058091870': 201, 'revealed': 3500, 'compensation': 1419, 'pleassssssseeeeee': 3222, 'avent': 972, 'sportsx': 3860, '2003': 380, 'statement': 3881, '07753741225': 32, 'un': 4286, 'redeemed': 3436, '08715203677': 140, 'identifier': 2321, '42478': 505, '078': 37, '07808': 39, 'xxxxxx': 4610, '08719899217': 179, '41685': 501, '07': 21, '07808247860': 40, '08719899229': 180, '40411': 498, '07815296484': 42, '08718738001': 170, '41782': 502, '07973788240': 49, '08715203649': 137, '40533': 499, '31': 457, 'fone': 1952, '08715203656': 139, '42049': 503, '26': 405, '08715203652': 138, '42810': 506, '08715203694': 142, '08718738002': 171, '48922': 526, '08719899230': 181, '08715203685': 141, '4xx26': 542, '49557': 528, '07742676969': 31, '786': 617, 'unredeemed': 4308, '08719180248': 174, '45239': 521, '078498': 44, '08719180219': 173, 'panasonic': 3130, 'bluetoothhdset': 1121, 'doublemins': 1684, 'doubletxt': 1686, 'phony': 3185, '350': 466, 'voda': 4396, 'ending': 1763, 'xxxx': 4608, '08712300220': 110, 'quoting': 3371, '3100': 458, 'app': 902, '30ish': 453, 'piggy': 3201, 'awake': 976, 'bet': 1072, '08712402578': 117, '08712402779': 118, '08712402902': 119, '08712402972': 120, 'amanda': 860, 'regard': 3446, 'renewing': 3462, 'upgrading': 4321, '021': 13, '3680': 471, 'subject': 3941, 'representative': 3476, '169': 356, '6031': 572, '9pm': 736, '0808': 64, '145': 334, '4742': 524, '9am': 734, '11pm': 316, 'watts': 4457, 'comprehensive': 1426, 'prabha': 3286, 'soryda': 3822, 'realy': 3414, 'frm': 1989, 'sory': 3821, 'probably': 3325, 'wee': 4476, 'several': 3659, 'outstanding': 3110, 'invoices': 2389, 'promotion': 3338, '8714714': 690, 'city': 1356, '88039': 695, 'skilgme': 3747, 'tscs087147403231winawk': 4241, '50perwksub': 552, 'drivin': 1703, 'rct': 3394, 'thnq': 4115, 'adrian': 794, 'rgds': 3505, 'vatian': 4366, 'recpt': 3433, 'processed': 3329, 'reminder': 3455, 'rgent': 3506, 'romcapspam': 3528, 'responding': 3484, 'presence': 3303, 'outgoing': 3108, 'breath': 1176, 'rt': 3545, 'pro': 3323, 'ringtoneking': 3514, '08701237397': 82, 'redeemable': 3435, 'drpd': 1706, 'deeraj': 1587, 'deepak': 1585, 'recognise': 3428, 'confused': 1438, 'secured': 3621, 'unsecured': 4309, '195': 362, '6669': 581, 'downloaded': 1690, 'doit': 1671, 'mymoby': 2912, 'professional': 3331, 'tiger': 4133, 'woods': 4566, '2006': 383, 'fifa': 1895, 'held': 2208, 'accommodation': 763, 'various': 4362, 'global': 2074, 'locations': 2621, 'phb1': 3179, '08700435505150p': 78, 'singles': 3732, 'rock': 3524, 'chik': 1337, 'filth': 1903, '69669': 586, 'saristar': 3576, 'e14': 1719, '9yt': 739, '08701752560': 87, '450p': 519, 'stop2': 3904, 'romantic': 3527, 'nights': 2970, 'flights': 1929, '79': 619, '08704439680ts': 94, 'nervous': 2948, 'six': 3744, 'chances': 1308, 'csh11': 1505, '6days': 597, 'tsandcs': 4238, '7250': 603, '86021': 679, '7250i': 604, 'w1jhl': 4415, 'gotto': 2108, 'comuk': 1428, 'login': 2624, '3qxj9': 488, '08702840625': 91, '220cm2': 394, '9ae': 733, '08700469649': 79, 'box420': 1159, '220': 393, 'cm2': 1385, 'blind': 1107, 'rodds1': 3525, 'aberdeen': 744, 'united': 4304, 'kingdom': 2494, 'img': 2332, 'icmb3cktz8r7': 2317, 'dates': 1557, 'hide': 2232, 'jsco': 2456, '2channel': 416, 'leadership': 2554, 'skills': 3749, 'psychic': 3343, 'sptv': 3864, 'jersey': 2438, 'devils': 1611, 'detroit': 1609, 'wings': 4532, 'ice': 2315, 'hockey': 2249, 'incorrect': 2354, 'sun0819': 3974, 'posts': 3273, 'seem': 3627, 'smsservices': 3785, 'yourinclusive': 4642, 'spjanuary': 3848, 'consider': 1445, 'walls': 4434, 'bunkers': 1211, 'peaceful': 3158, 'trip': 4223, 'sometme': 3805, 'santa': 3571, 'eve': 1799, '09058094583': 206, '09077818151': 278, 'calls1': 1254, '50ppm': 555, '30s': 455, 'santacalling': 3572, 'wedding': 4474, 'lingerie': 2597, 'bridal': 1181, 'petticoatdreams': 3176, 'superb': 3981, 'brought': 1193, 'weddingfriend': 4475, 'stress': 3922, 'dorm': 1680, 'logo': 2625, 'lover': 2658, 'names': 2923, 'name1': 2920, 'name2': 2921, 'mobno': 2840, 'adam': 784, '07123456789': 27, 'yahoo': 4614, 'txtno': 4264, 'ads': 795, 'speaking': 3835, 'expression': 1830, 'childish': 1340, 'sentiment': 3646, 'rowdy': 3539, 'ful': 2001, 'attitude': 959, 'attractive': 960, 'irritating': 2398, '087016248': 86, 'followed': 1947, 'gender': 2042, 'wither': 4545, '23f': 396, '23g': 397, 'pickle': 3193, 'shb': 3672, 'couldn': 1474, 'attend': 958, 'rounds': 3537, 'shocking': 3685, 'scary': 3594, 'def': 1588, 'somewhere': 3806, 'crash': 1483, 'taxi': 4033, 'till': 4136, '5k': 565, 'travel': 4216, '09064011000': 240, 'cr01327bt': 1480, 'fixedline': 1923, 'colours': 1405, '3lions': 483, 'click': 1367, 'si': 3711, 'oreo': 3091, 'truffles': 4231, 'fever': 1889, 'vomitin': 4401, 'sindu': 3729, 'rent': 3463, 'past': 3148, 'inconsiderate': 2353, 'nag': 2916, 'recession': 3426, 'hence': 2218, 'askin': 945, 'axis': 982, 'siva': 3743, 'hostel': 2273, 'aha': 821, 'pours': 3280, 'rain': 3377, 'sum1': 3970, 'hurts': 2305, 'becoz': 1048, 'smiling': 3777, 'smiles': 3776, 'samus': 3569, 'shoulders': 3699, 'showing': 3704, 'jjc': 2441, 'tendencies': 4062, 'costumes': 1471, 'yowifes': 4646, 'hint': 2238, 'harri': 2180, 'holla': 2255, 'stock': 3897, 'comin': 1411, 'accenture': 757, '09058091854': 200, 'box385': 1156, 'm6': 2688, '6wu': 600, '09058097189': 212, 'ls15hb': 2665, '09058095107': 210, 's3xy': 3556, 'conacted': 1429, '09111030116': 291, 'pobox12n146tf15': 3235, 'contacted': 1450, '09111032124': 292, 'pobox12n146tf150p': 3236, 'becausethey': 1046, '09058098002': 214, 'pobox1': 3233, 'w14rg': 4411, 'someonone': 3800, '09064015307': 243, '07090201529': 24, 'yar': 4616, 'poor': 3262, 'turned': 4250, 'dry': 1711, 'trade': 4203, 'fetch': 1887, 'roommates': 3531, 'spent': 3845, 'casualty': 1287, 'stuff42moro': 3935, 'includes': 2351, 'sheets': 3674, '4d': 529, 'dad': 1541, '1405': 332, '1680': 355, '1843': 359, 'sun': 3973, 'package': 3122, 'resubmit': 3490, 'expiry': 1826, 'themob': 4097, 'connections': 1444, 'splashmobile': 3851, 'subscrition': 3953, 'spook': 3856, 'halloween': 2161, '08701417012150p': 84, 'spoons': 3857, 'sppok': 3861, 'returned': 3496, 'summers': 3972, 'matched': 2741, 'help08714742804': 2215, 'earth': 1726, 'cloud': 1376, 'river': 3520, 'evng': 1807, 'med': 2765, 'stamped': 3869, 'envelope': 1783, '113': 310, 'bray': 1172, 'wicklow': 4516, 'eire': 1746, 'dvd': 1718, 'country': 1476, 'played': 3216, 'mid': 2792, 'ansr': 882, 'tyrone': 4274, 'algarve': 841, 'recorder': 3430, 'canname': 1265, 'capital': 1268, 'australia': 966, 'mquiz': 2875, 'grateful': 2120, 'happier': 2174, 'acknowledgement': 770, 'astoundingly': 951, 'tactless': 4017, 'generally': 2043, 'faggy': 1848, 'demand': 1600, 'blood': 1113, 'oath': 3023, 'fo': 1943, 'surely': 3990, 'sweetheart': 4005, 'biola': 1090, '28thfeb': 413, 'tbs': 4037, 'persolvo': 3170, 'chasing': 1321, 'forå': 1968, '38': 475, 'ignore': 2327, 'kath': 2475, 'manchester': 2719, 'thanx4': 4086, 'cer': 1302, 'often': 3039, 'angry': 874, 'misbehaved': 2813, 'urself': 4338, 'basically': 1024, 'daaaaa': 1540, 'atleast': 954, 'otherwise': 3103, 'shakespeare': 3669, 'shesil': 3676, 'fall': 1855, 'worlds': 4574, '83110': 655, 'rob': 3523, 'mack': 2699, 'gf': 2058, 'theater': 4091, 'drug': 1707, 'dealer': 1570, 'impatient': 2337, 'headache': 2195, 'tension': 4064, 'machi': 2698, 'recd': 3418, 'thirtyeight': 4112, 'banneduk': 1015, 'gprs': 2109, 'text82228': 4071, 'txt82228': 4260, 'onam': 3057, 'sirji': 3737, 'remembered': 3454, 'insurance': 2376, 'insha': 2369, 'tata': 4030, 'aig': 826, 'taste': 4028, 'skyped': 3753, 'kz': 2509, 'sura': 3988, 'given': 2070, 'ultimatum': 4282, 'countin': 1475, 'aburo': 753, 'notified': 2999, 'marketing': 2730, '84122': 668, '08450542832': 73, 'continued': 1452, 'support': 3985, 'in2': 2345, 'president': 3305, 'wishes': 4540, 'memorable': 2780, 'appreciate': 911, 'picking': 3192, 'trash': 4213, 'vote': 4402, 'sing': 3730, 'along': 850, 'stars': 3874, 'karaoke': 2473, 'burial': 1213, 'mojibiola': 2848, 'reference': 3439, 't91': 4014, '09057039994': 199, 'k718': 2468, '09065069120': 249, 'r836': 3372, '09065069154': 250, 'x29': 4594, '09065989180': 255, 'x49': 4595, '09065989182': 256, 'txtstar': 4266, 'torch': 4189, 'bold': 1126, 'brownie': 1194, 'wondar': 4562, 'flim': 1930, 'transport': 4212, 'problematic': 3327, 'bday': 1038, 'definite': 1590, 'guild': 2141, 'bristol': 1188, 'campus': 1260, 'idea': 2320, 'gentle': 2046, 'sonetimes': 3808, 'rough': 3535, 'gentleman': 2047, 'dignity': 1632, 'respect': 3482, 'leading': 2555, '151': 350, 'pause': 3150, 'evo': 1808, 'flash': 1926, 'jealous': 2431, 'cream': 1488, 'shipped': 3679, 'shoul': 3697, 'wine': 4530, 'flowing': 1938, 'nevering': 2957, 'admit': 792, 'mad': 2700, 'correction': 1464, 'newest': 2959, 'gossip': 2101, 'babes': 992, 'fit': 1919, 'funky': 2008, '82468': 651, 'pink': 3204, 'panther': 3132, 'sugababes': 3962, 'zebra': 4653, 'animation': 875, 'badass': 999, 'hoody': 2260, 'wear': 4465, 'jeans': 2432, 'repent': 3469, 'language': 2530, 'uncountable': 4296, 'noun': 3001, 'dictionary': 1617, 'os': 3099, 'ubandu': 4276, 'installing': 2372, 'disk': 1649, 'files': 1900, 'repair': 3466, 'slippery': 3765, 'theyre': 4105, 'places': 3209, 'hospitals': 2272, 'medical': 2766, '85222': 675, 'winnersclub': 4535, '84': 666, 'gbp1': 2034, 'recovery': 3432, 'cooped': 1457, 'fondly': 1951, 'bein': 1061, 'thot': 4118, '09066361921': 260, '08712101358': 107, '08718726970': 161, '087187272008': 164, 'now1': 3004, '09053750005': 197, '310303': 459, '08718725756': 158, '140ppm': 333, '087104711148': 106, 'gmw': 2076, 'connected': 1442, 'improved': 2342, 'resent': 3481, 'previous': 3311, 'failed': 1850, 'error': 1787, 'queries': 3360, 'customersqueries': 1530, 'netvision': 2952, 'lakhs': 2524, 'accessible': 760, '08709501522': 104, '139': 330, 'la3': 2515, '2wu': 443, 'thursday': 4129, 'slept': 3759, 'gage': 2016, 'deck': 1581, 'cnupdates': 1388, 'newsletter': 2961, 'alerts': 838, 'accept': 758, 'dear1': 1573, 'best1': 1071, 'clos1': 1370, 'lvblefrnd': 2680, 'jstfrnd': 2458, 'cutefrnd': 1533, 'lifpartnr': 2584, 'swtheart': 4011, 'bstfrnd': 1198, 'enemy': 1766, 'dedicated': 1583, 'dedicate': 1582, 'valuable': 4360, 'frnds': 1991, '1225': 320, '50award': 547, '5226': 557, 'hava': 2186, '1131': 311, '7548': 609, '4041': 497, '7634': 612, '7684': 613, '4882': 525, '09064019014': 247, 'hearing': 2202, 'expired': 1824, 'monoc': 2857, 'monos': 2858, 'polyc': 3255, 'stream': 3920, '0871212025016': 109, 'slippers': 3764, 'staying': 3885, 'twinks': 4255, 'scallies': 3591, 'skins': 3750, 'jocks': 2443, '08712466669': 125, 'gamb': 2019, '447801259231': 513, 'secret': 3618, 'admirer': 791, 'reveal': 3499, 'thinks': 4111, '09058094597': 208, 'subscribed': 3947, '82324': 650, 'helpline': 2217, '08706091795': 95, '83435': 663, 'alter': 854, 'tscs': 4239, 'idew': 2322, 'skillgame': 3748, '1winaweek': 373, '150ppermesssubscription': 345, 'stubborn': 3929, 'hospital': 2271, 'weak': 4464, 'sucker': 3957, 'suckers': 3958, 'commercial': 1413, 'hor': 2266, '09065171142': 251, 'stopsms': 3910, '08': 51, '08718727870150ppm': 167, '09058094565': 205, '09058094594': 207, '09058094599': 209, '09065174042': 252, '07821230901': 43, '6230': 578, 'pobox114': 3234, '14tcr': 337, 'w1': 4409, 'orchard': 3086, 'scenery': 3595, 'mall': 2716, 'outbid': 3107, 'simonwatson5120': 3723, 'shinco': 3677, 'plyr': 3227, 'smsrewards': 3784, 'notifications': 2998, 'british': 1189, 'hotels': 2276, 'dial': 1613, 'bx526': 1229, 'sw73ss': 4000, 'bahamas': 1002, 'callfreefone': 1250, '08081560665': 66, 'cruise': 1498, 'ofå': 3040, '07786200117': 35, '900': 719, '09061702893': 226, 'acl03530150pm': 771, '09064017295': 244, '09050000332': 185, 'rstm': 3544, 'sw7': 3999, '3ss': 489, '09050000460': 186, 'land': 2525, 'j89': 2415, 'box245c2150pm': 1152, '09058094507': 204, '3030': 451, '09066358361': 259, 'y87': 4612, '09050001295': 190, 'a21': 740, '09050001808': 191, 'm95': 2692, 'valid12hrs': 4359, '09050003091': 193, 'c52': 1232, '09061701851': 224, 'k61': 2467, '12hours': 325, '09061701939': 225, 's89': 3557, 'jackpot': 2417, '81010': 642, 'dbuk': 1566, 'lccltd': 2548, '4403ldnw1a7rw18': 510, '07808726822': 41, '09': 182, '0871': 105, '872': 691, '9758': 729, 'box95qu': 1163, '4719': 523, '523': 558, '09064019788': 248, 'box42wr29c': 1160, 'ukp': 4279, '09061790125': 234, '09058095201': 211, '09058094454': 202, '09058094455': 203, '09061790121': 233, '09061790126': 235, '09066362220': 262, 'box97n7qp': 1164, '077xxx': 36, '09066362206': 261, '09066368753': 269, '97n7qp': 730, '27': 408, '08714714011': 135, 'costa': 1468, 'sol': 3795, '09050090044': 195, 'toclaim': 4159, 'pobox334': 3238, 'stockport': 3898, 'max10mins': 2749, '9755': 728, 'exhausted': 1815, 'cuddle': 1515, 'nap': 2925, 'umma': 4283, 'vava': 4367, 'ummma': 4284, 'ummmmmaah': 4285, 'returns': 3497, 'under': 4297, 'lays': 2546, 'paper': 3133, 'gurl': 2143, 'appropriate': 913, 'update_now': 4319, '400mins': 495, 'j5q': 2414, 'f4q': 1839, 'upgrdcentre': 4322, '9153': 722, '26th': 407, 'ups': 4324, '3days': 479, 'shipping': 3680, 'usps': 4349, 'lag': 2521, 'bribe': 1180, 'nipost': 2973, 'balance': 1007, 'currently': 1524, 'maximize': 2751, 'hmv1': 2247, 'tonexs': 4176, 'renewed': 3461, 'clubzed': 1382, 'billing': 1088, 'sang': 3570, 'uptown': 4328, '80': 626, '83600': 664, 'complete': 1422, 'landmark': 2529, 'bob': 1123, 'barry': 1021, 'ben': 1067, '83738': 665, 'cc': 1294, '08708800282': 102, '08718720201': 156, '114': 312, '14': 331, 'tcr': 4039, 'meg': 2771, 'changed': 1310, 'club4mobiles': 1379, '87070': 686, 'club4': 1378, 'box1146': 1149, 'mk45': 2823, '2wt': 442, '09066649731from': 273, 'ibiza': 2314, 'sk3': 3745, '8wp': 718, '09066612661': 272, 'luxury': 2679, 'canary': 1262, 'islands': 2402, '20m12aq': 387, 'ûï': 4664, 'eurodisinc': 1796, 'trav': 4215, 'aco': 772, 'entry41': 1782, 'morefrmmob': 2865, 'shracomorsglsuplt': 3706, 'ls1': 2664, '3aj': 477, 'unclaimed': 4290, '09066368327': 267, 'closingdate04': 1375, 'claimcode': 1358, 'm39m51': 2687, '50pmmorefrommobile2bremoved': 554, 'mobypobox734ls27yf': 2845, 'europe': 1797, '10th': 308, '09050000555': 187, 'ba128nnfwfly150ppm': 990, '09061213237': 219, '177': 357, 'm227xy': 2684, '09061743810': 229, 'abta': 752, '326': 464, 'ppm': 3283, '09061743811': 230, '0906346330': 239, '47': 522, 'po19': 3231, '2ez': 420, 'james': 2420, 'eh74rr': 1744, '09061749602': 232, '528': 560, 'hp20': 2288, '1yf': 376, '09066350750': 257, 'complementary': 1421, 'wa14': 4421, '2px': 435, 'unconscious': 4295, 'adults': 797, 'behave': 1060, 'abnormally': 748, 'ûªve': 4663, 'bin': 1089, 'instant': 2373, '08715203028': 136, '9th': 738, 'valentines': 4357, 'lifetime': 2583, 'white': 4511, 'fudge': 2000, 'oreos': 3092, 'stores': 3913, 'subs16': 3944, '1win150ppmx3': 372, 'tscs08714740323': 4240, '1winawk': 374, '50perweeksub': 551, 'foley': 1944, 'exciting': 1813, 'prizes': 3321, 'eye': 1835, '82050': 646, 'hvae': 2309, '09061701444': 222, 'receivea': 3421, '09061701461': 223, 'kl341': 2499, 'missy': 2818, 'tour': 4197, 'pre': 3293, 'trackmarque': 4202, 'vipclub4u': 4389, 'openin': 3069, 'sentence': 3645, 'formal': 1964, 'juz': 2465, 'tt': 4244, 'eatin': 1731, 'puttin': 3352, 'anythin': 890, 'wah': 4422, 'hee': 2206, 'clear': 1365, 'sarcastic': 3575, 'wesleys': 4495, 'hella': 2211, 'drugs': 1708, 'wan2': 4437, 'westlife': 4496, 'm8': 2690, 'unbreakable': 4289, 'untamed': 4314, 'unkempt': 4305, '83049': 654, 'laid': 2523, 'largest': 2536, '69696': 587, 'chit': 1343, 'logon': 2626, '8883': 701, 'cm': 1384, '4217': 504, 'w1a': 4412, '6zf': 601, '118p': 314, 'moan': 2832, '69888nyt': 593, '31p': 460, 'gravel': 2122, 'explicit': 1828, '30': 445, 'secs': 3620, '02073162414': 11, 'gsex': 2132, '2667': 406, 'wc1n': 4461, '3xx': 491, 'funk': 2007, 'tones2u': 4174, 'warner': 4446, '83118': 656, 'colin': 1399, 'farrell': 1867, 'swat': 4002, 'wkend': 4550, 'popcorn': 3264, 'kiosk': 2495, 'mre': 2877, 'farm': 1866, 'uniform': 4302, 'cartoon': 1280, 'temple': 4059, 'church': 1353, 'telugu': 4057, 'grandmas': 2116, 'hungover': 2297, '08718723815': 157, 'flirtparty': 1933, 'replys150': 3474, '09058097218': 213, 'thurs': 4128, 'wed': 4472, 'textand': 4072, '08002988890': 62, 'derek': 1606, 'taylor': 4034, 'assumed': 950, 'worst': 4578, 'select': 3632, 'added': 787, 'benefits': 1068, 'specially': 3838, 'trained': 4205, 'advisors': 800, 'dialling': 1614, '402': 496, '08719839835': 178, 'mgs': 2791, '89123': 708, '24m': 400, 'philosophical': 3180, 'hole': 2253, 'saved': 3585, 'blimey': 1106, 'exercise': 1814, 'restock': 3488, 'thanksgiving': 4084, 'lindsay': 2593, 'bars': 1022, 'ptbo': 3345, 'heron': 2224, 'welp': 4488, 'retired': 3493, 'bcums': 1037, 'dnt': 1657, 'deep': 1584, 'affection': 803, 'kettoda': 2481, 'manda': 2720, 'tacos': 4016, 'reunion': 3498, '0721072': 28, 'necklace': 2942, 'token': 4164, 'liking': 2591, 'prevent': 3310, 'dehydration': 1592, 'fluids': 1939, 'plural': 3225, 'hex': 2227, 'explain': 1827, 'thinked': 4109, 'significance': 3717, 'bruv': 1196, 'rewarding': 3503, 'semester': 3638, 'staff': 3868, 'whatsup': 4503, 'bike': 1085, 'library': 2579, 'iam': 2311, 'addicted': 788, 'msging': 2883, 'wrong': 4586, 'fetching': 1888, 'mcr': 2758, 'garage': 2025, 'keys': 2483, 'aren': 923, 'bookshelf': 1134, 'hiding': 2233, 'smokes': 3780, 'begging': 1057, 'dint': 1637, 'knew': 2500, 'murder': 2903, 'train': 4204, 'pie': 3198, 'career': 1273, 'flyng': 1940, 'horo': 2269, 'star': 3873, 'aries': 928, 'ûïharry': 4665, 'potter': 3276, 'phoenix': 3181, 'harry': 2181, 'among': 864, 'readers': 3403, 'åòharry': 4657, 'nearly': 2940, 'banned': 1014, 'realized': 3411, 'embarassed': 1755, 'accomodations': 766, 'seemed': 3628, 'cave': 1292, 'offered': 3033, 'embarassing': 1756, 'xclusive': 4599, 'clubsaisai': 1381, '2morow': 425, 'soiree': 3794, 'speciale': 3837, 'zouk': 4656, 'nichols': 2966, 'roses': 3534, '07946746291': 47, '07880867867': 45, 'draws': 1697, 'com1win150ppmx3age16subscription': 1408, 'xxxmobilemovieclub': 4607, 'qjkgighjjgcbl': 3357, 'during': 1717, '8pm': 716, 'selling': 3637, '4qf2': 536, 'dogbreath': 1664, 'sounding': 3824, 'jan': 2423, '07801543489': 38, 'latests': 2543, 'llc': 2613, 'ny': 3018, 'usa': 4340, 'msgrcvd18': 2885, '09066364311': 264, '09061743386': 227, 'reality': 3409, 'cookies': 1455, 'jelly': 2433, 'srsly': 3865, 'yi': 4632, 'horse': 2270, 'racing': 3374, 'earlier': 1722, 'chicken': 1336, 'rice': 3507, 'clean': 1364, 'usual': 4350, 'guy': 2144, 'ahold': 824, 'throw': 4125, 'apologetic': 900, 'fallen': 1856, 'actin': 774, 'spoilt': 3853, 'caught': 1289, 'badly': 1000, 'cheers': 1332, 'hopefully': 2263, 'tyler': 4270, 'wallet': 4432, 'shoes': 3686, 'atm': 955, 'yep': 4624, 'loxahatchee': 2661, 'tree': 4219, 'burning': 1214, 'form': 1963, 'clark': 1361, 'utter': 4352, 'waste': 4450, 'factory': 1845, 'nitros': 2975, 'positions': 3268, 'kama': 2471, 'sutra': 3996, 'lap': 2531, 'shut': 3709, 'lady': 2520, 'gauti': 2028, 'sehwag': 3631, 'odi': 3029, 'series': 3648, 'bhaji': 1079, 'cricketer': 1493, 'sachin': 3558, 'chad': 1304, 'gymnastics': 2147, 'site': 3741, 'christians': 1351, 'alcohol': 835, 'safely': 3562, '0871277810810': 127, '0871277810910p': 128, '087123002209am': 111, '087147123779am': 130, '09071517866': 277, '150ppmpobox10183bhamb64xe': 347, 'putting': 3353, 'business': 1219, 'pictures': 3197, 'facebook': 1843, '09061221061': 220, '28days': 411, 'box177': 1151, 'm221bp': 2683, '2yr': 444, 'warranty': 4448, 'på': 3355, '99': 731, '09064017305': 245, 'pobox75ldns7': 3242, '09050000878': 188, 'pobox45w2tg150p': 3241, '09050000928': 189, 'ripped': 3518, 'clubmoby': 1380, '08717509990': 151, 'everywhere': 1806, 'dirt': 1640, 'floor': 1934, 'windows': 4529, 'shirt': 3681, 'mouth': 2870, 'chores': 1348, 'joy': 2455, 'exist': 1816, 'hail': 2156, 'mist': 2819, 'ibhltd': 2313, 'ldnw15h': 2551, 'unsubscribed': 4313, 'hunks': 2299, 'gotbabes': 2105, 'subscriptions': 3951, 'hillsborough': 2236, 'th': 4080, 'donate': 1674, 'unicef': 4301, 'asian': 940, 'tsunami': 4242, 'disaster': 1644, 'fund': 2006, '864233': 681, 'mix': 2821, 'html': 2290, 'gbp4': 2035, 'mfl': 2790, 'seen': 3630, 'tool': 4183, '083': 68, '6089': 573, '08712400200': 113, '08715205273': 143, '08718738034': 172, 'voicemail': 4399, '08719181503': 176, '08719181513': 177, '08714712379': 131, '08714712394': 133, '08714712412': 134, 'premier': 3297, '0825': 67, '02072069400': 10, 'bx': 1227, '526': 559, '08712402050': 116, 'lines': 2596, '10ppm': 307, 'ag': 809, 'promo': 3337, '3000': 447, 'call09050000327': 1240, '32000': 462, 'legitimat': 2566, 'efreefone': 1740, 'cashto': 1284, '08000407165': 53, 'getstop': 2054, '88222': 698, 'php': 3188, 'rg21': 3504, '4jx': 533, 'lifted': 2586, 'hopes': 2264, 'approaches': 912, 'studying': 3933, 'connection': 1443, 'refund': 3442, 'fb': 1876, 'jaykwon': 2429, 'thuglyfe': 4127, 'falconerf': 1854, 'anthony': 885, 'fees': 1884, 'grand': 2115, 'prix': 3318, 'unbelievable': 4288, 'faglord': 1849, 'triple': 4224, 'echo': 1735, 'recieve': 3427, 'channel': 1311, 'teletext': 4053, 'pg': 3177, 'incredible': 2355, 'learn': 2558, 'amazing': 861, 'blow': 1116, 'o2fwd': 3022, '18p': 360, 'svc': 3998, '69988': 596, 'verify': 4370, '09058099801': 215, 'b4190604': 985, '7876150ppm': 618, '08719181259': 175, 'xxxxx': 4609, 'b4u': 987, 'marsms': 2734, 'b4utele': 988, '08717168528': 147, 'credited': 1491, 'refilled': 3440, 'successfully': 3956, 'inr': 2368, 'keralacircle': 2480, 'prepaid': 3299, 'rs': 3543, 'transaction': 4208, 'kr': 2506, 'genius': 2044, 'topped': 4187, 'bubbletext': 1201, 'renewal': 3460, 'pin': 3203, 'tgxxrz': 4079, 'collected': 1401, '85069': 674, 'usher': 4347, 'britney': 1190, 'fml': 1942, 'killing': 2490, 'picsfree1': 3195, 'vid': 4377, 'keyword': 2484, 'opinion': 3073, 'jada': 2419, 'kusruthi': 2507, 'silent': 3720, 'spl': 3850, 'character': 1313, 'matured': 2748, 'stylish': 3939, '1172': 313, 'axel': 981, 'akon': 833, 'black': 1100, 'eyed': 1836, 'yoyyooo': 4647, 'permissions': 3169, 'mac': 2694, 'usb': 4341, 'yup': 4651, 'plaza': 3219, 'closes': 1374, 'longer': 2633, 'darren': 1552, 'remb': 3452, 'timings': 4140, 'xuhui': 4602, '8am': 713, 'urfeeling': 4332, 'bettersn': 1074, 'probthat': 3328, 'overdose': 3112, 'spk': 3849, 'lovejen': 2655, 'boo': 1129, 'enjoyin': 1774, 'yourjob': 4643, 'hunny': 2300, 'iåõllspeak': 2413, 'soonlots': 3815, 'loveme': 2657, 'sparkling': 3833, 'breaks': 1175, '45': 517, '0121': 4, '2025050': 386, 'shortbreaks': 3692, 'org': 3093, 'werethe': 4494, 'monkeespeople': 2854, 'monkeyaround': 2855, 'howdy': 2286, 'hundreds': 2296, 'handsomes': 2168, 'beauties': 1041, 'aunties': 965, 'uncles': 4292, 'meive': 2775, 'hardly': 2179, 'gotany': 2104, 'petey': 3175, 'whereare': 4507, 'friendsare': 1986, 'thekingshead': 4095, 'canlove': 1264, 'nic': 2964, '1000call': 298, '09071512432': 275, '300603t': 449, 'callcost150ppmmobilesvary': 1244, 'repeat': 3468, 'lastest': 2538, 'stereophonics': 3892, 'marley': 2731, 'dizzee': 1654, 'racal': 3373, 'libertines': 2578, 'strokes': 3926, 'nookii': 2987, 'bookmark': 1133, 'cmon': 1386, 'sticky': 3895, 'replies': 3471, '09066364349': 265, 'box434sk38wp150ppm18': 1161, 'cud': 1514, 'gona': 2092, 'l8': 2510, 'gon': 2091, 'waitin': 4426, 'coincidence': 1395, 'applausestore': 904, 'monthlysubscription': 2861, 'max6': 2750, 'csc': 1504, 'goldviking': 2089, '762': 611, 'oral': 3083, 'doggy': 1668, 'style': 3938, 'hanks': 2170, 'lotsly': 2649, 'apples': 906, 'pairs': 3128, 'malarky': 2714, 'cruisin': 1499, 'jenny': 2435, '820554ad0a1705572711': 647, 'trueåác': 4230, 'ringtoneåá': 3516, 'idc': 2319, 'weaseling': 4466, '2find': 421, '0789xxxxxxx': 46, 'hamster': 2163, '1pm': 368, 'lyricalladie': 2682, '910': 721, 'hmmross': 2245, 'corporation': 1462, 'gap': 2024, '1million': 367, 'ppt150x3': 3285, 'box403': 1158, 'w1t1jy': 4416, 'kids': 2488, 'okmail': 3050, 'ou': 3104, '09050005321': 194, 'pdate_now': 3156, 'yhl': 4631, 'ree': 3437, '84484': 671, 'woul': 4581, 'lead': 2553, 'curfew': 1522, 'gibe': 2061, 'getsleep': 2053, 'studdying': 3930, 'ear': 1721, 'training': 4206, 'vat': 4365, 'sports': 3859, 'fans': 1861, '0870141701216': 85, '120p': 318, 'smokin': 3781, 'tddnewsletter': 4041, 'emc1': 1757, 'thedailydraw': 4092, 'helen': 2209, 'dozens': 1692, 'prizeswith': 3322, 'thesmszone': 4103, 'anonymous': 878, 'masked': 2737, 'potential': 3275, 'abuse': 754, '0089': 3, 'digits': 1631, '09063442151': 237, '0871277810710p': 126, 'follows': 1950, 'subsequent': 3954, 'wks': 4553, 'wamma': 4435, 'doggin': 1666, 'dogs': 1669, 'response': 3485, 'bridgwater': 1183, 'banter': 1016, 'location': 2620, 'signin': 3718, 'ìï': 4661, 'sdryb8i': 3609, 'predict': 3294, 'ericsson': 1785, 'cannot': 1266, 'oredi': 3090}\n"
     ]
    }
   ],
   "source": [
    "print(vectorizer.vocabulary_)"
   ]
  },
  {
   "cell_type": "code",
   "execution_count": 42,
   "metadata": {},
   "outputs": [],
   "source": []
  },
  {
   "cell_type": "code",
   "execution_count": 54,
   "metadata": {},
   "outputs": [
    {
     "data": {
      "text/plain": [
       "array([0], dtype=int64)"
      ]
     },
     "execution_count": 54,
     "metadata": {},
     "output_type": "execute_result"
    }
   ],
   "source": [
    "text3 = [\"FREE !!! iphone model\"]\n",
    "vector = vectorizer.transform(text3)\n",
    "y_pred = predict(model[0], vector)\n",
    "y_pred"
   ]
  },
  {
   "cell_type": "code",
   "execution_count": 57,
   "metadata": {},
   "outputs": [
    {
     "name": "stdout",
     "output_type": "stream",
     "text": [
      "\n",
      "\n",
      "SVM\n",
      "[1]\n",
      "\n",
      "\n",
      "\n",
      "\n",
      "KNN\n",
      "[0]\n",
      "\n",
      "\n",
      "\n",
      "\n",
      "DecisionTree\n",
      "[1]\n",
      "\n",
      "\n",
      "\n",
      "\n",
      "NaiveBayes\n",
      "[1]\n",
      "\n",
      "\n"
     ]
    }
   ],
   "source": [
    "text = [\"Urgent Call 12345 from ur landline!! 1000$ Cash awaits you C23EWRHJ$#\"]\n",
    "vector = vectorizer.transform(text)\n",
    "for i in range(0,4):\n",
    "    print(\"\\n\")\n",
    "    print(algorithms[i])\n",
    "    if(i != 3):   \n",
    "         y_pred = predict(model[i],vector)\n",
    "    else:\n",
    "         y_pred = predict(model[i], vector.toarray())\n",
    "    print(y_pred)\n",
    "    print(\"\\n\")\n",
    "    "
   ]
  },
  {
   "cell_type": "code",
   "execution_count": null,
   "metadata": {},
   "outputs": [],
   "source": []
  },
  {
   "cell_type": "code",
   "execution_count": null,
   "metadata": {},
   "outputs": [],
   "source": []
  }
 ],
 "metadata": {
  "kernelspec": {
   "display_name": "Python 3",
   "language": "python",
   "name": "python3"
  },
  "language_info": {
   "codemirror_mode": {
    "name": "ipython",
    "version": 3
   },
   "file_extension": ".py",
   "mimetype": "text/x-python",
   "name": "python",
   "nbconvert_exporter": "python",
   "pygments_lexer": "ipython3",
   "version": "3.6.5"
  }
 },
 "nbformat": 4,
 "nbformat_minor": 2
}
